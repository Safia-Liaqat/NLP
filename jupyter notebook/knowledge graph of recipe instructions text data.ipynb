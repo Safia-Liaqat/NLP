{
 "cells": [
  {
   "cell_type": "code",
   "execution_count": 1,
   "metadata": {},
   "outputs": [],
   "source": [
    "import re\n",
    "import pandas as pd\n",
    "import bs4\n",
    "import requests\n",
    "import spacy\n",
    "from spacy import displacy\n",
    "nlp = spacy.load('en_core_web_sm')\n",
    "\n",
    "from spacy.matcher import Matcher \n",
    "from spacy.tokens import Span \n",
    "\n",
    "import networkx as nx\n",
    "\n",
    "import matplotlib.pyplot as plt\n",
    "from tqdm import tqdm\n",
    "\n",
    "pd.set_option('display.max_colwidth', 200)\n",
    "%matplotlib inline"
   ]
  },
  {
   "cell_type": "code",
   "execution_count": 3,
   "metadata": {},
   "outputs": [
    {
     "data": {
      "text/plain": [
       "(23, 2)"
      ]
     },
     "execution_count": 3,
     "metadata": {},
     "output_type": "execute_result"
    }
   ],
   "source": [
    "candidate_sentences = pd.read_csv(\"new.csv\")\n",
    "candidate_sentences.shape"
   ]
  },
  {
   "cell_type": "code",
   "execution_count": 12,
   "metadata": {},
   "outputs": [
    {
     "ename": "SyntaxError",
     "evalue": "EOL while scanning string literal (<ipython-input-12-744699998627>, line 15)",
     "output_type": "error",
     "traceback": [
      "\u001b[1;36m  File \u001b[1;32m\"<ipython-input-12-744699998627>\"\u001b[1;36m, line \u001b[1;32m15\u001b[0m\n\u001b[1;33m    \"It will prevent sticking of the cake to the base.\u001b[0m\n\u001b[1;37m                                                      ^\u001b[0m\n\u001b[1;31mSyntaxError\u001b[0m\u001b[1;31m:\u001b[0m EOL while scanning string literal\n"
     ]
    }
   ],
   "source": [
    "text=(\n",
    "\"Making a homemade sponge cake was never so easy.\"\n",
    "\"Begin by mixing sugar and butter together.\"\n",
    "\"Whisk well until light and fluffy with a manual whisker or a fork.\"\n",
    "\"Once done, add the beaten eggs and blend well.\"\n",
    "\"Beat further so that the mixture turns white and creamy.\"\n",
    "\"Sift together the all-purpose flour and baking soda.\"\n",
    "\"It is done to evenly distribute the baking soda in flour.\"\n",
    "\"Gradually, add this to the egg mixture.\"\n",
    "\"If required, add a little milk and mix till the batter is fluffy and soft.\"\n",
    "\"You may not add the entire milk if you feel the consistency of your cake is fine and it pours down like canned condensed milk.\"\n",
    "\"Add vanilla essence and blend well.\"\n",
    "\"Vanilla essence is important to camouflage the smell of eggs.\"\n",
    "\"Sprinkle some maida on a greased baking tin.\"\n",
    "\"It will prevent sticking of the cake to the base.\n",
    "\"You can also line it with a butter paper.\"\n",
    "\"Pour the prepared mixture into the tin and place it on a stand in a pressure cooker\"\n",
    "\"Do not add water in the cooker and ensure that the tin does not touch the base of the cooker.\"\n",
    "\"You can also keep the baking dish on an inverted steel plate.\"\n",
    "\"Increase the flame and pressure cook for two minutes.\"\n",
    "\"Now remove the whistle and cook on low flame for 35-40 minutes.\"\n",
    "\"If you are using an electric oven, cook at 180 degrees for 30-35 minutes.\"\n",
    "\"Insert a knife or a metal skewer into the cake and if it comes out clean, then the cake is ready.\"\n",
    "\"Remove from the oven/cooker and allow to cool on a wire rack.\")\n",
    "doc = nlp(text)\n"
   ]
  },
  {
   "cell_type": "code",
   "execution_count": 9,
   "metadata": {},
   "outputs": [
    {
     "ename": "AttributeError",
     "evalue": "'str' object has no attribute 'noun_chunks'",
     "output_type": "error",
     "traceback": [
      "\u001b[1;31m---------------------------------------------------------------------------\u001b[0m",
      "\u001b[1;31mAttributeError\u001b[0m                            Traceback (most recent call last)",
      "\u001b[1;32m<ipython-input-9-52d85ff5163b>\u001b[0m in \u001b[0;36m<module>\u001b[1;34m\u001b[0m\n\u001b[1;32m----> 1\u001b[1;33m \u001b[0mprint\u001b[0m\u001b[1;33m(\u001b[0m\u001b[1;34m\"Noun phrases:\"\u001b[0m\u001b[1;33m,\u001b[0m \u001b[1;33m[\u001b[0m\u001b[0mchunk\u001b[0m\u001b[1;33m.\u001b[0m\u001b[0mtext\u001b[0m \u001b[1;32mfor\u001b[0m \u001b[0mchunk\u001b[0m \u001b[1;32min\u001b[0m \u001b[0mtext\u001b[0m\u001b[1;33m.\u001b[0m\u001b[0mnoun_chunks\u001b[0m\u001b[1;33m]\u001b[0m\u001b[1;33m)\u001b[0m\u001b[1;33m\u001b[0m\u001b[1;33m\u001b[0m\u001b[0m\n\u001b[0m",
      "\u001b[1;31mAttributeError\u001b[0m: 'str' object has no attribute 'noun_chunks'"
     ]
    }
   ],
   "source": [
    "print(\"Noun phrases:\", [chunk.text for chunk in text.noun_chunks])"
   ]
  },
  {
   "cell_type": "code",
   "execution_count": null,
   "metadata": {},
   "outputs": [],
   "source": []
  },
  {
   "cell_type": "code",
   "execution_count": null,
   "metadata": {},
   "outputs": [],
   "source": []
  },
  {
   "cell_type": "code",
   "execution_count": null,
   "metadata": {},
   "outputs": [],
   "source": []
  },
  {
   "cell_type": "code",
   "execution_count": null,
   "metadata": {},
   "outputs": [],
   "source": []
  },
  {
   "cell_type": "code",
   "execution_count": null,
   "metadata": {},
   "outputs": [],
   "source": []
  },
  {
   "cell_type": "code",
   "execution_count": null,
   "metadata": {},
   "outputs": [],
   "source": []
  },
  {
   "cell_type": "code",
   "execution_count": null,
   "metadata": {},
   "outputs": [],
   "source": []
  },
  {
   "cell_type": "code",
   "execution_count": null,
   "metadata": {},
   "outputs": [],
   "source": []
  },
  {
   "cell_type": "code",
   "execution_count": null,
   "metadata": {},
   "outputs": [],
   "source": []
  },
  {
   "cell_type": "code",
   "execution_count": 4,
   "metadata": {},
   "outputs": [
    {
     "data": {
      "text/plain": [
       "6                                                                          It is done to evenly distribute the baking soda in flour.\n",
       "3                                                                                     Once done, add the beaten eggs and blend well.\n",
       "9     You may not add the entire milk if you feel the consistency of your cake is fine and it pours down like canned condensed milk.\n",
       "13                                                                                 It will prevent sticking of the cake to the base.\n",
       "8                                                         If required, add a little milk and mix till the batter is fluffy and soft.\n",
       "18                                                                             Increase the flame and pressure cook for two minutes.\n",
       "5                                                                               Sift together the all-purpose flour and baking soda.\n",
       "0                                                                                   Making a homemade sponge cake was never so easy.\n",
       "16                                     Do not add water in the cooker and ensure that the tin does not touch the base of the cooker.\n",
       "15                                              Pour the prepared mixture into the tin and place it on a stand in a pressure cooker.\n",
       "Name: sentences, dtype: object"
      ]
     },
     "execution_count": 4,
     "metadata": {},
     "output_type": "execute_result"
    }
   ],
   "source": [
    "candidate_sentences['sentences'].sample(10)"
   ]
  },
  {
   "cell_type": "code",
   "execution_count": 5,
   "metadata": {},
   "outputs": [
    {
     "data": {
      "text/html": [
       "<div>\n",
       "<style scoped>\n",
       "    .dataframe tbody tr th:only-of-type {\n",
       "        vertical-align: middle;\n",
       "    }\n",
       "\n",
       "    .dataframe tbody tr th {\n",
       "        vertical-align: top;\n",
       "    }\n",
       "\n",
       "    .dataframe thead th {\n",
       "        text-align: right;\n",
       "    }\n",
       "</style>\n",
       "<table border=\"1\" class=\"dataframe\">\n",
       "  <thead>\n",
       "    <tr style=\"text-align: right;\">\n",
       "      <th></th>\n",
       "      <th>Unnamed: 0</th>\n",
       "      <th>sentences</th>\n",
       "    </tr>\n",
       "  </thead>\n",
       "  <tbody>\n",
       "    <tr>\n",
       "      <th>0</th>\n",
       "      <td>0</td>\n",
       "      <td>Making a homemade sponge cake was never so easy.</td>\n",
       "    </tr>\n",
       "    <tr>\n",
       "      <th>1</th>\n",
       "      <td>1</td>\n",
       "      <td>Begin by mixing sugar and butter together.</td>\n",
       "    </tr>\n",
       "    <tr>\n",
       "      <th>2</th>\n",
       "      <td>2</td>\n",
       "      <td>Whisk well until light and fluffy with a manual whisker or a fork.</td>\n",
       "    </tr>\n",
       "    <tr>\n",
       "      <th>3</th>\n",
       "      <td>3</td>\n",
       "      <td>Once done, add the beaten eggs and blend well.</td>\n",
       "    </tr>\n",
       "    <tr>\n",
       "      <th>4</th>\n",
       "      <td>4</td>\n",
       "      <td>Beat further so that the mixture turns white and creamy.</td>\n",
       "    </tr>\n",
       "  </tbody>\n",
       "</table>\n",
       "</div>"
      ],
      "text/plain": [
       "   Unnamed: 0  \\\n",
       "0           0   \n",
       "1           1   \n",
       "2           2   \n",
       "3           3   \n",
       "4           4   \n",
       "\n",
       "                                                            sentences  \n",
       "0                    Making a homemade sponge cake was never so easy.  \n",
       "1                          Begin by mixing sugar and butter together.  \n",
       "2  Whisk well until light and fluffy with a manual whisker or a fork.  \n",
       "3                      Once done, add the beaten eggs and blend well.  \n",
       "4            Beat further so that the mixture turns white and creamy.  "
      ]
     },
     "execution_count": 5,
     "metadata": {},
     "output_type": "execute_result"
    }
   ],
   "source": [
    "candidate_sentences.head()\n"
   ]
  },
  {
   "cell_type": "markdown",
   "metadata": {},
   "source": [
    "# "
   ]
  },
  {
   "cell_type": "code",
   "execution_count": 6,
   "metadata": {},
   "outputs": [],
   "source": [
    "def get_entity(sent):\n",
    "  ent1 = \"\" #subject entity\n",
    "  ent2 = \"\" #object entity\n",
    "\n",
    "  prev_token_text = \"\" #text from previous token\n",
    "  prev_token_dep = \"\"  #depedency from previous token\n",
    "\n",
    "  prefix = \"\"\n",
    "  modifier = \"\"\n",
    "\n",
    "  for tok in nlp(sent):\n",
    "    #Go in only if it is not a punctuation, else next word\n",
    "    if tok.dep_ != \"punct\":\n",
    "      #Check if token is a compund word\n",
    "      if tok.dep_ == \"compound\":\n",
    "        prefix = tok.text\n",
    "        #Check if previous token is also a compound\n",
    "        if prev_token_dep == \"compound\":\n",
    "          prefix = prev_token_text + \" \"+ prefix\n",
    "      #Check if token is a modifier or not\n",
    "      if tok.dep_.endswith(\"mod\")==True:\n",
    "        modifier = tok.text \n",
    "        #Check if previous token is a compound\n",
    "        if prev_token_dep == \"compound\":\n",
    "          modifier = prev_token_text + \" \" + modifier\n",
    "\n",
    "      #Checking if subject\n",
    "      if tok.dep_.find(\"subj\") == True:\n",
    "        ent1 =modifier+ \" \" + prefix + \" \" + tok.text\n",
    "        prefix = \"\"\n",
    "        modifer = \"\"\n",
    "      #Checking if object\n",
    "      if tok.dep_.find(\"obj\") == True:\n",
    "        ent2 =modifier+ \" \" + prefix + \" \" + tok.text\n",
    "        prefix = \"\"\n",
    "        modifer = \"\"\n",
    "\n",
    "      #Update variables\n",
    "      prev_token_text = tok.text\n",
    "      prev_token_dep = tok.dep_\n",
    "\n",
    "      ############################\n",
    "  return [ent1.strip(), ent2.strip()]"
   ]
  },
  {
   "cell_type": "code",
   "execution_count": 7,
   "metadata": {},
   "outputs": [
    {
     "name": "stdout",
     "output_type": "stream",
     "text": [
      "Subj : film, obj : 200  patents\n"
     ]
    },
    {
     "data": {
      "text/plain": [
       "['film', '200  patents']"
      ]
     },
     "execution_count": 7,
     "metadata": {},
     "output_type": "execute_result"
    }
   ],
   "source": [
    "[ent1,ent2] = get_entity(\"the film had 200 patents\")\n",
    "print(\"Subj : {a}, obj : {b}\".format(a = ent1, b = ent2))\n",
    "get_entity(\"the film had 200 patents\")\n",
    "\n",
    "\n"
   ]
  },
  {
   "cell_type": "code",
   "execution_count": 8,
   "metadata": {},
   "outputs": [
    {
     "name": "stderr",
     "output_type": "stream",
     "text": [
      " 26%|█████████████████████▋                                                             | 6/23 [00:00<00:00, 59.83it/s]"
     ]
    },
    {
     "name": "stdout",
     "output_type": "stream",
     "text": [
      "Subj : Making, obj : homemade sponge cake\n",
      "Subj : , obj : sugar\n",
      "Subj : , obj : manual  whisker\n",
      "Subj : , obj : beaten  eggs\n",
      "Subj : further  mixture, obj : \n",
      "Subj : , obj : together  soda\n",
      "Subj : It, obj : baking  flour\n",
      "Subj : , obj : Gradually egg mixture\n",
      "Subj : little  batter, obj : little  milk\n",
      "Subj : entire  it, obj : condensed  milk\n",
      "Subj : , obj : vanilla essence\n",
      "Subj : Vanilla essence, obj : eggs"
     ]
    },
    {
     "name": "stderr",
     "output_type": "stream",
     "text": [
      " 83%|███████████████████████████████████████████████████████████████████▋              | 19/23 [00:00<00:00, 59.95it/s]"
     ]
    },
    {
     "name": "stdout",
     "output_type": "stream",
     "text": [
      "\n",
      "Subj : , obj : greased baking tin\n",
      "Subj : It, obj : base\n",
      "Subj : You, obj : also butter paper\n",
      "Subj : , obj : prepared pressure cooker\n",
      "Subj : tin, obj : cooker\n",
      "Subj : You, obj : inverted steel plate\n",
      "Subj : , obj : two pressure minutes\n",
      "Subj : , obj : 35  minutes\n",
      "Subj : you, obj : 35  minutes\n",
      "Subj : then  cake, obj : metal cake"
     ]
    },
    {
     "name": "stderr",
     "output_type": "stream",
     "text": [
      "\r",
      "100%|██████████████████████████████████████████████████████████████████████████████████| 23/23 [00:00<00:00, 62.14it/s]"
     ]
    },
    {
     "name": "stdout",
     "output_type": "stream",
     "text": [
      "\n",
      "Subj : , obj : oven wire rack\n"
     ]
    },
    {
     "name": "stderr",
     "output_type": "stream",
     "text": [
      "\n"
     ]
    }
   ],
   "source": [
    "for i in tqdm(candidate_sentences['sentences']):\n",
    "    [ent1,ent2] = get_entity(i)\n",
    "    print(\"Subj : {a}, obj : {b}\".format(a = ent1, b = ent2))"
   ]
  },
  {
   "cell_type": "code",
   "execution_count": 9,
   "metadata": {},
   "outputs": [
    {
     "name": "stderr",
     "output_type": "stream",
     "text": [
      "100%|██████████████████████████████████████████████████████████████████████████████████| 23/23 [00:00<00:00, 79.25it/s]\n"
     ]
    }
   ],
   "source": [
    "entity_pairs = []\n",
    "for i in tqdm(candidate_sentences['sentences']):\n",
    "    entity_pairs.append(get_entity(i))\n",
    "tqdm._instances.clear()"
   ]
  },
  {
   "cell_type": "code",
   "execution_count": 10,
   "metadata": {},
   "outputs": [
    {
     "name": "stderr",
     "output_type": "stream",
     "text": [
      " 35%|████████████████████████████▊                                                      | 8/23 [00:00<00:00, 69.73it/s]"
     ]
    },
    {
     "name": "stdout",
     "output_type": "stream",
     "text": [
      "['Making', 'homemade sponge cake']\n",
      "['Making', 'homemade sponge cake']\n",
      "['', 'sugar']\n",
      "['Making', 'homemade sponge cake']\n",
      "['', 'sugar']\n",
      "['', 'manual  whisker']\n",
      "['Making', 'homemade sponge cake']\n",
      "['', 'sugar']\n",
      "['', 'manual  whisker']\n",
      "['', 'beaten  eggs']\n",
      "['Making', 'homemade sponge cake']\n",
      "['', 'sugar']\n",
      "['', 'manual  whisker']\n",
      "['', 'beaten  eggs']\n",
      "['further  mixture', '']\n",
      "['Making', 'homemade sponge cake']\n",
      "['', 'sugar']\n",
      "['', 'manual  whisker']\n",
      "['', 'beaten  eggs']\n",
      "['further  mixture', '']\n",
      "['', 'together  soda']\n",
      "['Making', 'homemade sponge cake']\n",
      "['', 'sugar']\n",
      "['', 'manual  whisker']\n",
      "['', 'beaten  eggs']\n",
      "['further  mixture', '']\n",
      "['', 'together  soda']\n",
      "['It', 'baking  flour']\n",
      "['Making', 'homemade sponge cake']\n",
      "['', 'sugar']\n",
      "['', 'manual  whisker']\n",
      "['', 'beaten  eggs']\n",
      "['further  mixture', '']\n",
      "['', 'together  soda']\n",
      "['It', 'baking  flour']\n",
      "['', 'Gradually egg mixture']\n",
      "['Making', 'homemade sponge cake']\n",
      "['', 'sugar']\n",
      "['', 'manual  whisker']\n",
      "['', 'beaten  eggs']\n",
      "['further  mixture', '']\n",
      "['', 'together  soda']\n",
      "['It', 'baking  flour']\n",
      "['', 'Gradually egg mixture']\n",
      "['little  batter', 'little  milk']\n",
      "['Making', 'homemade sponge cake']\n",
      "['', 'sugar']\n",
      "['', 'manual  whisker']\n",
      "['', 'beaten  eggs']\n",
      "['further  mixture', '']\n",
      "['', 'together  soda']\n",
      "['It', 'baking  flour']\n",
      "['', 'Gradually egg mixture']\n",
      "['little  batter', 'little  milk']\n",
      "['entire  it', 'condensed  milk']\n",
      "['Making', 'homemade sponge cake']\n",
      "['', 'sugar']\n",
      "['', 'manual  whisker']\n",
      "['', 'beaten  eggs']\n",
      "['further  mixture', '']\n",
      "['', 'together  soda']\n",
      "['It', 'baking  flour']\n",
      "['', 'Gradually egg mixture']\n",
      "['little  batter', 'little  milk']\n",
      "['entire  it', 'condensed  milk']\n",
      "['', 'vanilla essence']\n",
      "['Making', 'homemade sponge cake']\n",
      "['', 'sugar']\n",
      "['', 'manual  whisker']\n",
      "['', 'beaten  eggs']\n",
      "['further  mixture', '']\n",
      "['', 'together  soda']\n",
      "['It', 'baking  flour']\n",
      "['', 'Gradually egg mixture']\n",
      "['little  batter', 'little  milk']\n",
      "['entire  it', 'condensed  milk']\n",
      "['', 'vanilla essence']\n",
      "['Vanilla essence', 'eggs']\n",
      "['Making', 'homemade sponge cake']\n",
      "['', 'sugar']\n",
      "['', 'manual  whisker']\n",
      "['', 'beaten  eggs']\n",
      "['further  mixture', '']\n",
      "['', 'together  soda']\n",
      "['It', 'baking  flour']\n",
      "['', 'Gradually egg mixture']\n",
      "['little  batter', 'little  milk']\n",
      "['entire  it', 'condensed  milk']\n",
      "['', 'vanilla essence']\n",
      "['Vanilla essence', 'eggs']\n",
      "['', 'greased baking tin']\n"
     ]
    },
    {
     "name": "stderr",
     "output_type": "stream",
     "text": [
      " 87%|███████████████████████████████████████████████████████████████████████▎          | 20/23 [00:00<00:00, 60.14it/s]"
     ]
    },
    {
     "name": "stdout",
     "output_type": "stream",
     "text": [
      "['Making', 'homemade sponge cake']\n",
      "['', 'sugar']\n",
      "['', 'manual  whisker']\n",
      "['', 'beaten  eggs']\n",
      "['further  mixture', '']\n",
      "['', 'together  soda']\n",
      "['It', 'baking  flour']\n",
      "['', 'Gradually egg mixture']\n",
      "['little  batter', 'little  milk']\n",
      "['entire  it', 'condensed  milk']\n",
      "['', 'vanilla essence']\n",
      "['Vanilla essence', 'eggs']\n",
      "['', 'greased baking tin']\n",
      "['It', 'base']\n",
      "['Making', 'homemade sponge cake']\n",
      "['', 'sugar']\n",
      "['', 'manual  whisker']\n",
      "['', 'beaten  eggs']\n",
      "['further  mixture', '']\n",
      "['', 'together  soda']\n",
      "['It', 'baking  flour']\n",
      "['', 'Gradually egg mixture']\n",
      "['little  batter', 'little  milk']\n",
      "['entire  it', 'condensed  milk']\n",
      "['', 'vanilla essence']\n",
      "['Vanilla essence', 'eggs']\n",
      "['', 'greased baking tin']\n",
      "['It', 'base']\n",
      "['You', 'also butter paper']\n",
      "['Making', 'homemade sponge cake']\n",
      "['', 'sugar']\n",
      "['', 'manual  whisker']\n",
      "['', 'beaten  eggs']\n",
      "['further  mixture', '']\n",
      "['', 'together  soda']\n",
      "['It', 'baking  flour']\n",
      "['', 'Gradually egg mixture']\n",
      "['little  batter', 'little  milk']\n",
      "['entire  it', 'condensed  milk']\n",
      "['', 'vanilla essence']\n",
      "['Vanilla essence', 'eggs']\n",
      "['', 'greased baking tin']\n",
      "['It', 'base']\n",
      "['You', 'also butter paper']\n",
      "['', 'prepared pressure cooker']\n",
      "['Making', 'homemade sponge cake']\n",
      "['', 'sugar']\n",
      "['', 'manual  whisker']\n",
      "['', 'beaten  eggs']\n",
      "['further  mixture', '']\n",
      "['', 'together  soda']\n",
      "['It', 'baking  flour']\n",
      "['', 'Gradually egg mixture']\n",
      "['little  batter', 'little  milk']\n",
      "['entire  it', 'condensed  milk']\n",
      "['', 'vanilla essence']\n",
      "['Vanilla essence', 'eggs']\n",
      "['', 'greased baking tin']\n",
      "['It', 'base']\n",
      "['You', 'also butter paper']\n",
      "['', 'prepared pressure cooker']\n",
      "['tin', 'cooker']\n",
      "['Making', 'homemade sponge cake']\n",
      "['', 'sugar']\n",
      "['', 'manual  whisker']\n",
      "['', 'beaten  eggs']\n",
      "['further  mixture', '']\n",
      "['', 'together  soda']\n",
      "['It', 'baking  flour']\n",
      "['', 'Gradually egg mixture']\n",
      "['little  batter', 'little  milk']\n",
      "['entire  it', 'condensed  milk']\n",
      "['', 'vanilla essence']\n",
      "['Vanilla essence', 'eggs']\n",
      "['', 'greased baking tin']\n",
      "['It', 'base']\n",
      "['You', 'also butter paper']\n",
      "['', 'prepared pressure cooker']\n",
      "['tin', 'cooker']\n",
      "['You', 'inverted steel plate']\n",
      "['Making', 'homemade sponge cake']\n",
      "['', 'sugar']\n",
      "['', 'manual  whisker']\n",
      "['', 'beaten  eggs']\n",
      "['further  mixture', '']\n",
      "['', 'together  soda']\n",
      "['It', 'baking  flour']\n",
      "['', 'Gradually egg mixture']\n",
      "['little  batter', 'little  milk']\n",
      "['entire  it', 'condensed  milk']\n",
      "['', 'vanilla essence']\n",
      "['Vanilla essence', 'eggs']\n",
      "['', 'greased baking tin']\n",
      "['It', 'base']\n",
      "['You', 'also butter paper']\n",
      "['', 'prepared pressure cooker']\n",
      "['tin', 'cooker']\n",
      "['You', 'inverted steel plate']\n",
      "['', 'two pressure minutes']\n",
      "['Making', 'homemade sponge cake']\n",
      "['', 'sugar']\n",
      "['', 'manual  whisker']\n",
      "['', 'beaten  eggs']\n",
      "['further  mixture', '']\n",
      "['', 'together  soda']\n",
      "['It', 'baking  flour']\n",
      "['', 'Gradually egg mixture']\n",
      "['little  batter', 'little  milk']\n",
      "['entire  it', 'condensed  milk']\n",
      "['', 'vanilla essence']\n",
      "['Vanilla essence', 'eggs']\n",
      "['', 'greased baking tin']\n",
      "['It', 'base']\n",
      "['You', 'also butter paper']\n",
      "['', 'prepared pressure cooker']\n",
      "['tin', 'cooker']\n",
      "['You', 'inverted steel plate']\n",
      "['', 'two pressure minutes']\n",
      "['', '35  minutes']\n",
      "['Making', 'homemade sponge cake']\n",
      "['', 'sugar']\n",
      "['', 'manual  whisker']\n",
      "['', 'beaten  eggs']\n",
      "['further  mixture', '']\n",
      "['', 'together  soda']\n",
      "['It', 'baking  flour']\n",
      "['', 'Gradually egg mixture']\n",
      "['little  batter', 'little  milk']\n",
      "['entire  it', 'condensed  milk']\n",
      "['', 'vanilla essence']\n",
      "['Vanilla essence', 'eggs']\n",
      "['', 'greased baking tin']\n",
      "['It', 'base']\n",
      "['You', 'also butter paper']\n",
      "['', 'prepared pressure cooker']\n",
      "['tin', 'cooker']\n",
      "['You', 'inverted steel plate']\n",
      "['', 'two pressure minutes']\n",
      "['', '35  minutes']\n",
      "['you', '35  minutes']\n",
      "['Making', 'homemade sponge cake']\n",
      "['', 'sugar']\n",
      "['', 'manual  whisker']\n",
      "['', 'beaten  eggs']\n",
      "['further  mixture', '']\n",
      "['', 'together  soda']\n",
      "['It', 'baking  flour']\n",
      "['', 'Gradually egg mixture']\n",
      "['little  batter', 'little  milk']\n",
      "['entire  it', 'condensed  milk']\n",
      "['', 'vanilla essence']\n",
      "['Vanilla essence', 'eggs']\n",
      "['', 'greased baking tin']\n",
      "['It', 'base']\n",
      "['You', 'also butter paper']\n",
      "['', 'prepared pressure cooker']\n",
      "['tin', 'cooker']\n",
      "['You', 'inverted steel plate']\n",
      "['', 'two pressure minutes']\n",
      "['', '35  minutes']\n",
      "['you', '35  minutes']\n",
      "['then  cake', 'metal cake']\n",
      "['Making', 'homemade sponge cake']"
     ]
    },
    {
     "name": "stderr",
     "output_type": "stream",
     "text": [
      "\r",
      "100%|██████████████████████████████████████████████████████████████████████████████████| 23/23 [00:00<00:00, 56.71it/s]"
     ]
    },
    {
     "name": "stdout",
     "output_type": "stream",
     "text": [
      "\n",
      "['', 'sugar']\n",
      "['', 'manual  whisker']\n",
      "['', 'beaten  eggs']\n",
      "['further  mixture', '']\n",
      "['', 'together  soda']\n",
      "['It', 'baking  flour']\n",
      "['', 'Gradually egg mixture']\n",
      "['little  batter', 'little  milk']\n",
      "['entire  it', 'condensed  milk']\n",
      "['', 'vanilla essence']\n",
      "['Vanilla essence', 'eggs']\n",
      "['', 'greased baking tin']\n",
      "['It', 'base']\n",
      "['You', 'also butter paper']\n",
      "['', 'prepared pressure cooker']\n",
      "['tin', 'cooker']\n",
      "['You', 'inverted steel plate']\n",
      "['', 'two pressure minutes']\n",
      "['', '35  minutes']\n",
      "['you', '35  minutes']\n",
      "['then  cake', 'metal cake']\n",
      "['', 'oven wire rack']\n"
     ]
    },
    {
     "name": "stderr",
     "output_type": "stream",
     "text": [
      "\n"
     ]
    }
   ],
   "source": [
    "entity_pairs = []\n",
    "for i in tqdm(candidate_sentences['sentences']):\n",
    "    entity_pairs.append(get_entity(i))\n",
    "    for i in range(len(entity_pairs)):\n",
    "        print(entity_pairs[i])       "
   ]
  },
  {
   "cell_type": "code",
   "execution_count": 11,
   "metadata": {},
   "outputs": [],
   "source": [
    "subjects = []\n",
    "objects = []\n",
    "subjects = [x[0] for x in entity_pairs]\n",
    "objects = [x[1] for x in entity_pairs]"
   ]
  },
  {
   "cell_type": "code",
   "execution_count": 12,
   "metadata": {},
   "outputs": [],
   "source": [
    "def get_relation(sent):\n",
    "  doc = nlp(sent)\n",
    "  #We initialise matcher with the vocab\n",
    "  matcher = Matcher(nlp.vocab)\n",
    "  #Defining the pattern\n",
    "  pattern = [{'DEP':'ROOT'},{'DEP':'prep','OP':'?'},{'DEP':'agent','OP':'?'},{'DEP':'ADJ','OP':'?'}]\n",
    "  #Adding the pattern to the matcher\n",
    "  matcher.add(\"matcher_1\",[pattern])\n",
    "  #Applying the matcher to the doc\n",
    "  matches = matcher(doc)\n",
    "\n",
    "  #The matcher returns a list of (match_id, start, end). The start to end in our doc contains the relation. We capture that relation in a variable called span\n",
    "  span = doc[matches[0][1]:matches[0][2]]\n",
    "  return span.text"
   ]
  },
  {
   "cell_type": "code",
   "execution_count": 13,
   "metadata": {},
   "outputs": [
    {
     "data": {
      "text/plain": [
       "(['John', 'task'], 'completed')"
      ]
     },
     "execution_count": 13,
     "metadata": {},
     "output_type": "execute_result"
    }
   ],
   "source": [
    "get_entity(\"John completed the task\"), get_relation(\"John completed the task\")"
   ]
  },
  {
   "cell_type": "code",
   "execution_count": 14,
   "metadata": {},
   "outputs": [
    {
     "name": "stderr",
     "output_type": "stream",
     "text": [
      "  0%|                                                                                           | 0/23 [00:00<?, ?it/s]\n",
      "  0%|                                                                                           | 0/23 [00:00<?, ?it/s]\u001b[A"
     ]
    },
    {
     "name": "stdout",
     "output_type": "stream",
     "text": [
      "['Making', 'homemade sponge cake'] was\n",
      "['Making', 'homemade sponge cake']"
     ]
    },
    {
     "name": "stderr",
     "output_type": "stream",
     "text": [
      "\n",
      " 17%|██████████████▍                                                                    | 4/23 [00:00<00:00, 35.01it/s]\u001b[A"
     ]
    },
    {
     "name": "stdout",
     "output_type": "stream",
     "text": [
      " Begin\n",
      "['Making', 'homemade sponge cake'] Whisk\n",
      "['Making', 'homemade sponge cake'] add\n",
      "['Making', 'homemade sponge cake'] Beat\n",
      "['Making', 'homemade sponge cake'] Sift\n",
      "['Making', 'homemade sponge cake']"
     ]
    },
    {
     "name": "stderr",
     "output_type": "stream",
     "text": [
      "\n",
      " 30%|█████████████████████████▎                                                         | 7/23 [00:00<00:00, 32.18it/s]\u001b[A"
     ]
    },
    {
     "name": "stdout",
     "output_type": "stream",
     "text": [
      " done\n"
     ]
    },
    {
     "name": "stderr",
     "output_type": "stream",
     "text": [
      "\n",
      " 39%|████████████████████████████████▍                                                  | 9/23 [00:00<00:00, 26.15it/s]\u001b[A"
     ]
    },
    {
     "name": "stdout",
     "output_type": "stream",
     "text": [
      "['Making', 'homemade sponge cake'] add\n",
      "['Making', 'homemade sponge cake'] add\n",
      "['Making', 'homemade sponge cake'] add\n",
      "['Making', 'homemade sponge cake']"
     ]
    },
    {
     "name": "stderr",
     "output_type": "stream",
     "text": [
      "\n",
      " 48%|███████████████████████████████████████▏                                          | 11/23 [00:00<00:00, 23.92it/s]\u001b[A"
     ]
    },
    {
     "name": "stdout",
     "output_type": "stream",
     "text": [
      " Add\n"
     ]
    },
    {
     "name": "stderr",
     "output_type": "stream",
     "text": [
      "\n",
      " 57%|██████████████████████████████████████████████▎                                   | 13/23 [00:00<00:00, 22.13it/s]\u001b[A"
     ]
    },
    {
     "name": "stdout",
     "output_type": "stream",
     "text": [
      "['Making', 'homemade sponge cake'] is\n",
      "['Making', 'homemade sponge cake'] Sprinkle\n",
      "['Making', 'homemade sponge cake'] prevent\n",
      "['Making', 'homemade sponge cake'] line\n",
      "['Making', 'homemade sponge cake']"
     ]
    },
    {
     "name": "stderr",
     "output_type": "stream",
     "text": [
      "\n",
      " 74%|████████████████████████████████████████████████████████████▌                     | 17/23 [00:00<00:00, 24.89it/s]\u001b[A"
     ]
    },
    {
     "name": "stdout",
     "output_type": "stream",
     "text": [
      " Pour\n",
      "['Making', 'homemade sponge cake'] add\n",
      "['Making', 'homemade sponge cake']"
     ]
    },
    {
     "name": "stderr",
     "output_type": "stream",
     "text": [
      "\n",
      " 91%|██████████████████████████████████████████████████████████████████████████▊       | 21/23 [00:00<00:00, 26.95it/s]\u001b[A"
     ]
    },
    {
     "name": "stdout",
     "output_type": "stream",
     "text": [
      " keep\n",
      "['Making', 'homemade sponge cake'] Increase\n",
      "['Making', 'homemade sponge cake'] remove\n",
      "['Making', 'homemade sponge cake'] cook\n",
      "['Making', 'homemade sponge cake']"
     ]
    },
    {
     "name": "stderr",
     "output_type": "stream",
     "text": [
      "100%|██████████████████████████████████████████████████████████████████████████████████| 23/23 [00:00<00:00, 27.21it/s]\n",
      "  4%|███▌                                                                               | 1/23 [00:00<00:19,  1.16it/s]\n",
      "  0%|                                                                                           | 0/23 [00:00<?, ?it/s]\u001b[A"
     ]
    },
    {
     "name": "stdout",
     "output_type": "stream",
     "text": [
      " is\n",
      "['Making', 'homemade sponge cake'] Remove\n",
      "['', 'sugar'] was\n",
      "['', 'sugar']"
     ]
    },
    {
     "name": "stderr",
     "output_type": "stream",
     "text": [
      "\n",
      " 17%|██████████████▍                                                                    | 4/23 [00:00<00:00, 39.89it/s]\u001b[A"
     ]
    },
    {
     "name": "stdout",
     "output_type": "stream",
     "text": [
      " Begin\n",
      "['', 'sugar'] Whisk\n",
      "['', 'sugar'] add\n",
      "['', 'sugar'] Beat\n",
      "['', 'sugar']"
     ]
    },
    {
     "name": "stderr",
     "output_type": "stream",
     "text": [
      "\n",
      " 39%|████████████████████████████████▍                                                  | 9/23 [00:00<00:00, 39.44it/s]\u001b[A"
     ]
    },
    {
     "name": "stdout",
     "output_type": "stream",
     "text": [
      " Sift\n",
      "['', 'sugar'] done\n",
      "['', 'sugar'] add\n",
      "['', 'sugar'] add\n",
      "['', 'sugar'] add\n",
      "['', 'sugar'] Add\n",
      "['', 'sugar'] is\n",
      "['', 'sugar']"
     ]
    },
    {
     "name": "stderr",
     "output_type": "stream",
     "text": [
      "\n",
      " 61%|█████████████████████████████████████████████████▉                                | 14/23 [00:00<00:00, 40.08it/s]\u001b[A"
     ]
    },
    {
     "name": "stdout",
     "output_type": "stream",
     "text": [
      " Sprinkle\n",
      "['', 'sugar'] prevent\n",
      "['', 'sugar'] line\n",
      "['', 'sugar'] Pour\n",
      "['', 'sugar'] add\n",
      "['', 'sugar']"
     ]
    },
    {
     "name": "stderr",
     "output_type": "stream",
     "text": [
      "\n",
      " 78%|████████████████████████████████████████████████████████████████▏                 | 18/23 [00:00<00:00, 39.13it/s]\u001b[A"
     ]
    },
    {
     "name": "stdout",
     "output_type": "stream",
     "text": [
      " keep\n",
      "['', 'sugar'] Increase\n",
      "['', 'sugar']"
     ]
    },
    {
     "name": "stderr",
     "output_type": "stream",
     "text": [
      "\n",
      "100%|██████████████████████████████████████████████████████████████████████████████████| 23/23 [00:00<00:00, 38.32it/s]\u001b[A\n",
      "  9%|███████▏                                                                           | 2/23 [00:01<00:16,  1.27it/s]\n",
      "  0%|                                                                                           | 0/23 [00:00<?, ?it/s]\u001b[A"
     ]
    },
    {
     "name": "stdout",
     "output_type": "stream",
     "text": [
      " remove\n",
      "['', 'sugar'] cook\n",
      "['', 'sugar'] is\n",
      "['', 'sugar'] Remove\n",
      "['', 'manual  whisker'] was\n",
      "['', 'manual  whisker'] Begin\n",
      "['', 'manual  whisker'] Whisk\n",
      "['', 'manual  whisker']"
     ]
    },
    {
     "name": "stderr",
     "output_type": "stream",
     "text": [
      "\n",
      " 17%|██████████████▍                                                                    | 4/23 [00:00<00:00, 37.97it/s]\u001b[A"
     ]
    },
    {
     "name": "stdout",
     "output_type": "stream",
     "text": [
      " add\n",
      "['', 'manual  whisker'] Beat\n",
      "['', 'manual  whisker'] Sift\n",
      "['', 'manual  whisker'] done\n",
      "['', 'manual  whisker'] add\n",
      "['', 'manual  whisker']"
     ]
    },
    {
     "name": "stderr",
     "output_type": "stream",
     "text": [
      "\n",
      " 39%|████████████████████████████████▍                                                  | 9/23 [00:00<00:00, 38.57it/s]\u001b[A"
     ]
    },
    {
     "name": "stdout",
     "output_type": "stream",
     "text": [
      " add\n",
      "['', 'manual  whisker'] add\n",
      "['', 'manual  whisker']"
     ]
    },
    {
     "name": "stderr",
     "output_type": "stream",
     "text": [
      "\n",
      " 57%|██████████████████████████████████████████████▎                                   | 13/23 [00:00<00:00, 36.82it/s]\u001b[A"
     ]
    },
    {
     "name": "stdout",
     "output_type": "stream",
     "text": [
      " Add\n",
      "['', 'manual  whisker'] is\n",
      "['', 'manual  whisker'] Sprinkle\n",
      "['', 'manual  whisker'] prevent\n",
      "['', 'manual  whisker'] line\n"
     ]
    },
    {
     "name": "stderr",
     "output_type": "stream",
     "text": [
      "\n",
      " 74%|████████████████████████████████████████████████████████████▌                     | 17/23 [00:00<00:00, 37.17it/s]\u001b[A"
     ]
    },
    {
     "name": "stdout",
     "output_type": "stream",
     "text": [
      "['', 'manual  whisker'] Pour\n",
      "['', 'manual  whisker'] add\n",
      "['', 'manual  whisker']"
     ]
    },
    {
     "name": "stderr",
     "output_type": "stream",
     "text": [
      "\n",
      "100%|██████████████████████████████████████████████████████████████████████████████████| 23/23 [00:00<00:00, 38.32it/s]\u001b[A\n",
      " 13%|██████████▊                                                                        | 3/23 [00:02<00:14,  1.36it/s]\n",
      "  0%|                                                                                           | 0/23 [00:00<?, ?it/s]\u001b[A"
     ]
    },
    {
     "name": "stdout",
     "output_type": "stream",
     "text": [
      " keep\n",
      "['', 'manual  whisker'] Increase\n",
      "['', 'manual  whisker'] remove\n",
      "['', 'manual  whisker'] cook\n",
      "['', 'manual  whisker'] is\n",
      "['', 'manual  whisker'] Remove\n",
      "['', 'beaten  eggs'] was\n",
      "['', 'beaten  eggs'] Begin\n",
      "['', 'beaten  eggs'] Whisk\n",
      "['', 'beaten  eggs']"
     ]
    },
    {
     "name": "stderr",
     "output_type": "stream",
     "text": [
      "\n",
      " 26%|█████████████████████▋                                                             | 6/23 [00:00<00:00, 54.46it/s]\u001b[A"
     ]
    },
    {
     "name": "stdout",
     "output_type": "stream",
     "text": [
      " add\n",
      "['', 'beaten  eggs'] Beat\n",
      "['', 'beaten  eggs'] Sift\n",
      "['', 'beaten  eggs'] done\n",
      "['', 'beaten  eggs'] add\n",
      "['', 'beaten  eggs'] add\n",
      "['', 'beaten  eggs']"
     ]
    },
    {
     "name": "stderr",
     "output_type": "stream",
     "text": [
      "\n",
      " 48%|███████████████████████████████████████▏                                          | 11/23 [00:00<00:00, 51.47it/s]\u001b[A"
     ]
    },
    {
     "name": "stdout",
     "output_type": "stream",
     "text": [
      " add\n",
      "['', 'beaten  eggs'] Add\n",
      "['', 'beaten  eggs']"
     ]
    },
    {
     "name": "stderr",
     "output_type": "stream",
     "text": [
      "\n",
      " 70%|█████████████████████████████████████████████████████████                         | 16/23 [00:00<00:00, 50.99it/s]\u001b[A"
     ]
    },
    {
     "name": "stdout",
     "output_type": "stream",
     "text": [
      " is\n",
      "['', 'beaten  eggs'] Sprinkle\n",
      "['', 'beaten  eggs'] prevent\n",
      "['', 'beaten  eggs'] line\n",
      "['', 'beaten  eggs'] Pour\n",
      "['', 'beaten  eggs'] add\n",
      "['', 'beaten  eggs'] keep\n",
      "['', 'beaten  eggs']"
     ]
    },
    {
     "name": "stderr",
     "output_type": "stream",
     "text": [
      "\n",
      " 87%|███████████████████████████████████████████████████████████████████████▎          | 20/23 [00:00<00:00, 47.08it/s]\u001b[A"
     ]
    },
    {
     "name": "stdout",
     "output_type": "stream",
     "text": [
      " Increase\n",
      "['', 'beaten  eggs'] remove\n",
      "['', 'beaten  eggs']"
     ]
    },
    {
     "name": "stderr",
     "output_type": "stream",
     "text": [
      "100%|██████████████████████████████████████████████████████████████████████████████████| 23/23 [00:00<00:00, 46.94it/s]\n",
      " 17%|██████████████▍                                                                    | 4/23 [00:02<00:12,  1.51it/s]\n",
      "  0%|                                                                                           | 0/23 [00:00<?, ?it/s]\u001b[A\n",
      " 22%|██████████████████                                                                 | 5/23 [00:00<00:00, 49.88it/s]\u001b[A"
     ]
    },
    {
     "name": "stdout",
     "output_type": "stream",
     "text": [
      " cook\n",
      "['', 'beaten  eggs'] is\n",
      "['', 'beaten  eggs'] Remove\n",
      "['further  mixture', ''] was\n",
      "['further  mixture', ''] Begin\n",
      "['further  mixture', ''] Whisk\n",
      "['further  mixture', ''] add\n",
      "['further  mixture', ''] Beat\n",
      "['further  mixture', ''] Sift\n",
      "['further  mixture', '']"
     ]
    },
    {
     "name": "stderr",
     "output_type": "stream",
     "text": [
      "\n",
      " 48%|███████████████████████████████████████▏                                          | 11/23 [00:00<00:00, 49.95it/s]\u001b[A"
     ]
    },
    {
     "name": "stdout",
     "output_type": "stream",
     "text": [
      " done\n",
      "['further  mixture', ''] add\n",
      "['further  mixture', ''] add\n",
      "['further  mixture', ''] add\n",
      "['further  mixture', ''] Add\n",
      "['further  mixture', ''] is\n",
      "['further  mixture', ''] Sprinkle\n",
      "['further  mixture', ''] prevent\n",
      "['further  mixture', ''] line\n",
      "['further  mixture', '']"
     ]
    },
    {
     "name": "stderr",
     "output_type": "stream",
     "text": [
      "\n",
      " 74%|████████████████████████████████████████████████████████████▌                     | 17/23 [00:00<00:00, 51.24it/s]"
     ]
    },
    {
     "name": "stdout",
     "output_type": "stream",
     "text": [
      " Pour\n",
      "['further  mixture', ''] add\n"
     ]
    },
    {
     "name": "stderr",
     "output_type": "stream",
     "text": [
      "\u001b[A\n",
      "100%|██████████████████████████████████████████████████████████████████████████████████| 23/23 [00:00<00:00, 48.94it/s]\u001b[A\n",
      " 22%|██████████████████                                                                 | 5/23 [00:03<00:10,  1.64it/s]\n",
      "  0%|                                                                                           | 0/23 [00:00<?, ?it/s]\u001b[A"
     ]
    },
    {
     "name": "stdout",
     "output_type": "stream",
     "text": [
      "['further  mixture', ''] keep\n",
      "['further  mixture', ''] Increase\n",
      "['further  mixture', ''] remove\n",
      "['further  mixture', ''] cook\n",
      "['further  mixture', ''] is\n",
      "['further  mixture', ''] Remove\n",
      "['', 'together  soda'] was\n",
      "['', 'together  soda'] Begin\n",
      "['', 'together  soda'] Whisk\n",
      "['', 'together  soda']"
     ]
    },
    {
     "name": "stderr",
     "output_type": "stream",
     "text": [
      "\n",
      " 22%|██████████████████                                                                 | 5/23 [00:00<00:00, 50.00it/s]\u001b[A"
     ]
    },
    {
     "name": "stdout",
     "output_type": "stream",
     "text": [
      " add\n",
      "['', 'together  soda'] Beat\n",
      "['', 'together  soda'] Sift\n",
      "['', 'together  soda'] done\n",
      "['', 'together  soda'] add\n",
      "['', 'together  soda'] add\n",
      "['', 'together  soda'] add\n",
      "['', 'together  soda']"
     ]
    },
    {
     "name": "stderr",
     "output_type": "stream",
     "text": [
      "\n",
      " 48%|███████████████████████████████████████▏                                          | 11/23 [00:00<00:00, 51.16it/s]\u001b[A"
     ]
    },
    {
     "name": "stdout",
     "output_type": "stream",
     "text": [
      " Add\n",
      "['', 'together  soda'] is\n",
      "['', 'together  soda'] Sprinkle\n",
      "['', 'together  soda']"
     ]
    },
    {
     "name": "stderr",
     "output_type": "stream",
     "text": [
      "\n",
      " 74%|████████████████████████████████████████████████████████████▌                     | 17/23 [00:00<00:00, 52.23it/s]\u001b[A"
     ]
    },
    {
     "name": "stdout",
     "output_type": "stream",
     "text": [
      " prevent\n",
      "['', 'together  soda'] line\n",
      "['', 'together  soda'] Pour\n",
      "['', 'together  soda'] add\n",
      "['', 'together  soda'] keep\n",
      "['', 'together  soda'] Increase\n",
      "['', 'together  soda'] remove\n",
      "['', 'together  soda']"
     ]
    },
    {
     "name": "stderr",
     "output_type": "stream",
     "text": [
      "\n",
      "100%|██████████████████████████████████████████████████████████████████████████████████| 23/23 [00:00<00:00, 51.59it/s]\u001b[A\n",
      " 26%|█████████████████████▋                                                             | 6/23 [00:03<00:09,  1.79it/s]"
     ]
    },
    {
     "name": "stdout",
     "output_type": "stream",
     "text": [
      " cook\n",
      "['', 'together  soda'] is\n",
      "['', 'together  soda'] Remove\n"
     ]
    },
    {
     "name": "stderr",
     "output_type": "stream",
     "text": [
      "\n",
      "  0%|                                                                                           | 0/23 [00:00<?, ?it/s]\u001b[A\n",
      " 26%|█████████████████████▋                                                             | 6/23 [00:00<00:00, 54.66it/s]\u001b[A"
     ]
    },
    {
     "name": "stdout",
     "output_type": "stream",
     "text": [
      "['It', 'baking  flour'] was\n",
      "['It', 'baking  flour'] Begin\n",
      "['It', 'baking  flour'] Whisk\n",
      "['It', 'baking  flour'] add\n",
      "['It', 'baking  flour'] Beat\n",
      "['It', 'baking  flour'] Sift\n",
      "['It', 'baking  flour'] done\n",
      "['It', 'baking  flour'] add\n",
      "['It', 'baking  flour'] add\n",
      "['It', 'baking  flour'] add\n",
      "['It', 'baking  flour']"
     ]
    },
    {
     "name": "stderr",
     "output_type": "stream",
     "text": [
      "\n",
      " 52%|██████████████████████████████████████████▊                                       | 12/23 [00:00<00:00, 53.14it/s]\u001b[A"
     ]
    },
    {
     "name": "stdout",
     "output_type": "stream",
     "text": [
      " Add\n",
      "['It', 'baking  flour'] is\n",
      "['It', 'baking  flour'] Sprinkle\n",
      "['It', 'baking  flour'] prevent\n",
      "['It', 'baking  flour'] line\n",
      "['It', 'baking  flour']"
     ]
    },
    {
     "name": "stderr",
     "output_type": "stream",
     "text": [
      "\n",
      " 74%|████████████████████████████████████████████████████████████▌                     | 17/23 [00:00<00:00, 47.71it/s]\u001b[A"
     ]
    },
    {
     "name": "stdout",
     "output_type": "stream",
     "text": [
      " Pour\n",
      "['It', 'baking  flour'] add\n",
      "['It', 'baking  flour']"
     ]
    },
    {
     "name": "stderr",
     "output_type": "stream",
     "text": [
      "\n",
      " 91%|██████████████████████████████████████████████████████████████████████████▊       | 21/23 [00:00<00:00, 41.57it/s]\u001b[A"
     ]
    },
    {
     "name": "stdout",
     "output_type": "stream",
     "text": [
      " keep\n",
      "['It', 'baking  flour'] Increase\n",
      "['It', 'baking  flour'] remove\n",
      "['It', 'baking  flour'] cook\n"
     ]
    },
    {
     "name": "stderr",
     "output_type": "stream",
     "text": [
      "100%|██████████████████████████████████████████████████████████████████████████████████| 23/23 [00:00<00:00, 41.84it/s]\n",
      " 30%|█████████████████████████▎                                                         | 7/23 [00:04<00:08,  1.79it/s]\n",
      "  0%|                                                                                           | 0/23 [00:00<?, ?it/s]\u001b[A"
     ]
    },
    {
     "name": "stdout",
     "output_type": "stream",
     "text": [
      "['It', 'baking  flour'] is\n",
      "['It', 'baking  flour'] Remove\n",
      "['', 'Gradually egg mixture']"
     ]
    },
    {
     "name": "stderr",
     "output_type": "stream",
     "text": [
      "\n",
      " 17%|██████████████▍                                                                    | 4/23 [00:00<00:00, 39.99it/s]\u001b[A"
     ]
    },
    {
     "name": "stdout",
     "output_type": "stream",
     "text": [
      " was\n",
      "['', 'Gradually egg mixture'] Begin\n",
      "['', 'Gradually egg mixture'] Whisk\n",
      "['', 'Gradually egg mixture'] add\n",
      "['', 'Gradually egg mixture'] Beat\n",
      "['', 'Gradually egg mixture'] Sift\n",
      "['', 'Gradually egg mixture'] done\n"
     ]
    },
    {
     "name": "stderr",
     "output_type": "stream",
     "text": [
      "\n",
      " 35%|████████████████████████████▊                                                      | 8/23 [00:00<00:00, 37.77it/s]\u001b[A\n",
      " 52%|██████████████████████████████████████████▊                                       | 12/23 [00:00<00:00, 37.31it/s]\u001b[A"
     ]
    },
    {
     "name": "stdout",
     "output_type": "stream",
     "text": [
      "['', 'Gradually egg mixture'] add\n",
      "['', 'Gradually egg mixture'] add\n",
      "['', 'Gradually egg mixture'] add\n",
      "['', 'Gradually egg mixture'] Add\n",
      "['', 'Gradually egg mixture'] is\n",
      "['', 'Gradually egg mixture'] Sprinkle\n",
      "['', 'Gradually egg mixture'] prevent\n",
      "['', 'Gradually egg mixture']"
     ]
    },
    {
     "name": "stderr",
     "output_type": "stream",
     "text": [
      "\n",
      " 70%|█████████████████████████████████████████████████████████                         | 16/23 [00:00<00:00, 36.52it/s]\u001b[A"
     ]
    },
    {
     "name": "stdout",
     "output_type": "stream",
     "text": [
      " line\n",
      "['', 'Gradually egg mixture'] Pour\n",
      "['', 'Gradually egg mixture'] add\n",
      "['', 'Gradually egg mixture'] keep\n",
      "['', 'Gradually egg mixture'] Increase\n"
     ]
    },
    {
     "name": "stderr",
     "output_type": "stream",
     "text": [
      "\n",
      " 87%|███████████████████████████████████████████████████████████████████████▎          | 20/23 [00:00<00:00, 35.08it/s]\u001b[A"
     ]
    },
    {
     "name": "stdout",
     "output_type": "stream",
     "text": [
      "['', 'Gradually egg mixture'] remove\n",
      "['', 'Gradually egg mixture']"
     ]
    },
    {
     "name": "stderr",
     "output_type": "stream",
     "text": [
      "\n",
      "100%|██████████████████████████████████████████████████████████████████████████████████| 23/23 [00:00<00:00, 33.83it/s]\u001b[A\n",
      " 35%|████████████████████████████▊                                                      | 8/23 [00:04<00:09,  1.66it/s]\n",
      "  0%|                                                                                           | 0/23 [00:00<?, ?it/s]\u001b[A"
     ]
    },
    {
     "name": "stdout",
     "output_type": "stream",
     "text": [
      " cook\n",
      "['', 'Gradually egg mixture'] is\n",
      "['', 'Gradually egg mixture'] Remove\n",
      "['little  batter', 'little  milk'] was\n",
      "['little  batter', 'little  milk'] Begin\n",
      "['little  batter', 'little  milk']"
     ]
    },
    {
     "name": "stderr",
     "output_type": "stream",
     "text": [
      "\n",
      " 17%|██████████████▍                                                                    | 4/23 [00:00<00:00, 32.06it/s]\u001b[A"
     ]
    },
    {
     "name": "stdout",
     "output_type": "stream",
     "text": [
      " Whisk\n",
      "['little  batter', 'little  milk'] add\n",
      "['little  batter', 'little  milk'] Beat\n",
      "['little  batter', 'little  milk'] Sift\n",
      "['little  batter', 'little  milk']"
     ]
    },
    {
     "name": "stderr",
     "output_type": "stream",
     "text": [
      "\n",
      " 35%|████████████████████████████▊                                                      | 8/23 [00:00<00:00, 32.42it/s]\u001b[A"
     ]
    },
    {
     "name": "stdout",
     "output_type": "stream",
     "text": [
      " done\n",
      "['little  batter', 'little  milk'] add\n",
      "['little  batter', 'little  milk']"
     ]
    },
    {
     "name": "stderr",
     "output_type": "stream",
     "text": [
      "\n",
      " 48%|███████████████████████████████████████▏                                          | 11/23 [00:00<00:00, 31.63it/s]\u001b[A"
     ]
    },
    {
     "name": "stdout",
     "output_type": "stream",
     "text": [
      " add\n",
      "['little  batter', 'little  milk'] add\n",
      "['little  batter', 'little  milk'] Add\n",
      "['little  batter', 'little  milk'] is\n",
      "['little  batter', 'little  milk'] Sprinkle\n",
      "['little  batter', 'little  milk'] prevent\n"
     ]
    },
    {
     "name": "stderr",
     "output_type": "stream",
     "text": [
      "\n",
      " 65%|█████████████████████████████████████████████████████▍                            | 15/23 [00:00<00:00, 29.63it/s]\u001b[A"
     ]
    },
    {
     "name": "stdout",
     "output_type": "stream",
     "text": [
      "['little  batter', 'little  milk'] line\n",
      "['little  batter', 'little  milk'] Pour\n",
      "['little  batter', 'little  milk'] add\n"
     ]
    },
    {
     "name": "stderr",
     "output_type": "stream",
     "text": [
      "\n",
      " 78%|████████████████████████████████████████████████████████████████▏                 | 18/23 [00:00<00:00, 22.52it/s]\u001b[A"
     ]
    },
    {
     "name": "stdout",
     "output_type": "stream",
     "text": [
      "['little  batter', 'little  milk'] keep\n",
      "['little  batter', 'little  milk'] Increase\n",
      "['little  batter', 'little  milk']"
     ]
    },
    {
     "name": "stderr",
     "output_type": "stream",
     "text": [
      "\n",
      " 91%|██████████████████████████████████████████████████████████████████████████▊       | 21/23 [00:00<00:00, 22.34it/s]\u001b[A"
     ]
    },
    {
     "name": "stdout",
     "output_type": "stream",
     "text": [
      " remove\n",
      "['little  batter', 'little  milk'] cook\n",
      "['little  batter', 'little  milk']"
     ]
    },
    {
     "name": "stderr",
     "output_type": "stream",
     "text": [
      "100%|██████████████████████████████████████████████████████████████████████████████████| 23/23 [00:00<00:00, 24.08it/s]\n",
      " 39%|████████████████████████████████▍                                                  | 9/23 [00:05<00:09,  1.41it/s]\n",
      "  0%|                                                                                           | 0/23 [00:00<?, ?it/s]\u001b[A"
     ]
    },
    {
     "name": "stdout",
     "output_type": "stream",
     "text": [
      " is\n",
      "['little  batter', 'little  milk'] Remove\n",
      "['entire  it', 'condensed  milk'] was\n",
      "['entire  it', 'condensed  milk'] Begin\n",
      "['entire  it', 'condensed  milk'] Whisk\n"
     ]
    },
    {
     "name": "stderr",
     "output_type": "stream",
     "text": [
      "\n",
      " 13%|██████████▊                                                                        | 3/23 [00:00<00:00, 27.35it/s]\u001b[A\n",
      " 26%|█████████████████████▋                                                             | 6/23 [00:00<00:00, 26.81it/s]"
     ]
    },
    {
     "name": "stdout",
     "output_type": "stream",
     "text": [
      "['entire  it', 'condensed  milk'] add\n",
      "['entire  it', 'condensed  milk'] Beat\n",
      "['entire  it', 'condensed  milk'] Sift\n"
     ]
    },
    {
     "name": "stderr",
     "output_type": "stream",
     "text": [
      "\u001b[A\n",
      " 35%|████████████████████████████▊                                                      | 8/23 [00:00<00:00, 23.30it/s]\u001b[A"
     ]
    },
    {
     "name": "stdout",
     "output_type": "stream",
     "text": [
      "['entire  it', 'condensed  milk'] done\n",
      "['entire  it', 'condensed  milk'] add\n",
      "['entire  it', 'condensed  milk'] add\n",
      "['entire  it', 'condensed  milk']"
     ]
    },
    {
     "name": "stderr",
     "output_type": "stream",
     "text": [
      "\n",
      " 43%|███████████████████████████████████▋                                              | 10/23 [00:00<00:00, 20.31it/s]\u001b[A"
     ]
    },
    {
     "name": "stdout",
     "output_type": "stream",
     "text": [
      " add\n",
      "['entire  it', 'condensed  milk'] Add\n",
      "['entire  it', 'condensed  milk']"
     ]
    },
    {
     "name": "stderr",
     "output_type": "stream",
     "text": [
      "\n",
      " 52%|██████████████████████████████████████████▊                                       | 12/23 [00:00<00:00, 18.44it/s]\u001b[A"
     ]
    },
    {
     "name": "stdout",
     "output_type": "stream",
     "text": [
      " is\n",
      "['entire  it', 'condensed  milk']"
     ]
    },
    {
     "name": "stderr",
     "output_type": "stream",
     "text": [
      "\n",
      " 61%|█████████████████████████████████████████████████▉                                | 14/23 [00:00<00:00, 15.96it/s]\u001b[A"
     ]
    },
    {
     "name": "stdout",
     "output_type": "stream",
     "text": [
      " Sprinkle\n",
      "['entire  it', 'condensed  milk'] prevent\n",
      "['entire  it', 'condensed  milk'] line\n",
      "['entire  it', 'condensed  milk'] Pour\n"
     ]
    },
    {
     "name": "stderr",
     "output_type": "stream",
     "text": [
      "\n",
      " 74%|████████████████████████████████████████████████████████████▌                     | 17/23 [00:00<00:00, 18.05it/s]\u001b[A"
     ]
    },
    {
     "name": "stdout",
     "output_type": "stream",
     "text": [
      "['entire  it', 'condensed  milk'] add\n",
      "['entire  it', 'condensed  milk'] keep\n",
      "['entire  it', 'condensed  milk'] Increase\n",
      "['entire  it', 'condensed  milk']"
     ]
    },
    {
     "name": "stderr",
     "output_type": "stream",
     "text": [
      "\n",
      " 91%|██████████████████████████████████████████████████████████████████████████▊       | 21/23 [00:01<00:00, 20.29it/s]\u001b[A"
     ]
    },
    {
     "name": "stdout",
     "output_type": "stream",
     "text": [
      " remove\n",
      "['entire  it', 'condensed  milk'] cook\n",
      "['entire  it', 'condensed  milk']"
     ]
    },
    {
     "name": "stderr",
     "output_type": "stream",
     "text": [
      "100%|██████████████████████████████████████████████████████████████████████████████████| 23/23 [00:01<00:00, 21.14it/s]\n",
      " 43%|███████████████████████████████████▋                                              | 10/23 [00:06<00:10,  1.20it/s]\n",
      "  0%|                                                                                           | 0/23 [00:00<?, ?it/s]\u001b[A"
     ]
    },
    {
     "name": "stdout",
     "output_type": "stream",
     "text": [
      " is\n",
      "['entire  it', 'condensed  milk'] Remove\n",
      "['', 'vanilla essence'] was\n",
      "['', 'vanilla essence'] Begin\n",
      "['', 'vanilla essence']"
     ]
    },
    {
     "name": "stderr",
     "output_type": "stream",
     "text": [
      "\n",
      " 22%|██████████████████                                                                 | 5/23 [00:00<00:00, 45.39it/s]\u001b[A"
     ]
    },
    {
     "name": "stdout",
     "output_type": "stream",
     "text": [
      " Whisk\n",
      "['', 'vanilla essence'] add\n",
      "['', 'vanilla essence'] Beat\n",
      "['', 'vanilla essence'] Sift\n",
      "['', 'vanilla essence']"
     ]
    },
    {
     "name": "stderr",
     "output_type": "stream",
     "text": [
      "\n",
      " 43%|███████████████████████████████████▋                                              | 10/23 [00:00<00:00, 44.82it/s]\u001b[A"
     ]
    },
    {
     "name": "stdout",
     "output_type": "stream",
     "text": [
      " done\n",
      "['', 'vanilla essence'] add\n",
      "['', 'vanilla essence'] add\n",
      "['', 'vanilla essence'] add\n",
      "['', 'vanilla essence']"
     ]
    },
    {
     "name": "stderr",
     "output_type": "stream",
     "text": [
      "\n",
      " 61%|█████████████████████████████████████████████████▉                                | 14/23 [00:00<00:00, 43.25it/s]\u001b[A"
     ]
    },
    {
     "name": "stdout",
     "output_type": "stream",
     "text": [
      " Add\n",
      "['', 'vanilla essence'] is\n",
      "['', 'vanilla essence'] Sprinkle\n",
      "['', 'vanilla essence'] prevent\n"
     ]
    },
    {
     "name": "stderr",
     "output_type": "stream",
     "text": [
      "\n",
      " 78%|████████████████████████████████████████████████████████████████▏                 | 18/23 [00:00<00:00, 42.18it/s]\u001b[A"
     ]
    },
    {
     "name": "stdout",
     "output_type": "stream",
     "text": [
      "['', 'vanilla essence'] line\n",
      "['', 'vanilla essence'] Pour\n",
      "['', 'vanilla essence'] add\n",
      "['', 'vanilla essence'] keep\n",
      "['', 'vanilla essence'] Increase\n",
      "['', 'vanilla essence'] remove\n",
      "['', 'vanilla essence'] cook\n",
      "['', 'vanilla essence']"
     ]
    },
    {
     "name": "stderr",
     "output_type": "stream",
     "text": [
      "\n",
      "100%|██████████████████████████████████████████████████████████████████████████████████| 23/23 [00:00<00:00, 38.66it/s]\u001b[A\n",
      " 48%|███████████████████████████████████████▏                                          | 11/23 [00:07<00:09,  1.31it/s]\n",
      "  0%|                                                                                           | 0/23 [00:00<?, ?it/s]\u001b[A"
     ]
    },
    {
     "name": "stdout",
     "output_type": "stream",
     "text": [
      " is\n",
      "['', 'vanilla essence'] Remove\n",
      "['Vanilla essence', 'eggs'] was\n",
      "['Vanilla essence', 'eggs']"
     ]
    },
    {
     "name": "stderr",
     "output_type": "stream",
     "text": [
      "\n"
     ]
    },
    {
     "name": "stdout",
     "output_type": "stream",
     "text": [
      " Begin\n",
      "['Vanilla essence', 'eggs'] Whisk\n",
      "['Vanilla essence', 'eggs'] add\n",
      "['Vanilla essence', 'eggs'] Beat\n"
     ]
    },
    {
     "name": "stderr",
     "output_type": "stream",
     "text": [
      " 22%|██████████████████                                                                 | 5/23 [00:00<00:00, 40.85it/s]\u001b[A"
     ]
    },
    {
     "name": "stdout",
     "output_type": "stream",
     "text": [
      "['Vanilla essence', 'eggs'] Sift\n",
      "['Vanilla essence', 'eggs'] done\n",
      "['Vanilla essence', 'eggs'] add\n",
      "['Vanilla essence', 'eggs'] "
     ]
    },
    {
     "name": "stderr",
     "output_type": "stream",
     "text": [
      "\n",
      " 43%|███████████████████████████████████▋                                              | 10/23 [00:00<00:00, 40.83it/s]\u001b[A"
     ]
    },
    {
     "name": "stdout",
     "output_type": "stream",
     "text": [
      "add\n",
      "['Vanilla essence', 'eggs'] add\n",
      "['Vanilla essence', 'eggs'] Add\n",
      "['Vanilla essence', 'eggs'] is\n",
      "['Vanilla essence', 'eggs'] Sprinkle\n",
      "['Vanilla essence', 'eggs']"
     ]
    },
    {
     "name": "stderr",
     "output_type": "stream",
     "text": [
      "\n",
      " 65%|█████████████████████████████████████████████████████▍                            | 15/23 [00:00<00:00, 41.09it/s]\u001b[A"
     ]
    },
    {
     "name": "stdout",
     "output_type": "stream",
     "text": [
      " prevent\n",
      "['Vanilla essence', 'eggs'] line\n",
      "['Vanilla essence', 'eggs'] Pour\n",
      "['Vanilla essence', 'eggs']"
     ]
    },
    {
     "name": "stderr",
     "output_type": "stream",
     "text": [
      "\n",
      " 83%|███████████████████████████████████████████████████████████████████▋              | 19/23 [00:00<00:00, 40.71it/s]\u001b[A"
     ]
    },
    {
     "name": "stdout",
     "output_type": "stream",
     "text": [
      " add\n",
      "['Vanilla essence', 'eggs'] keep\n",
      "['Vanilla essence', 'eggs'] Increase\n",
      "['Vanilla essence', 'eggs'] remove\n",
      "['Vanilla essence', 'eggs'] cook\n"
     ]
    },
    {
     "name": "stderr",
     "output_type": "stream",
     "text": [
      "100%|██████████████████████████████████████████████████████████████████████████████████| 23/23 [00:00<00:00, 40.72it/s]\n",
      " 52%|██████████████████████████████████████████▊                                       | 12/23 [00:08<00:07,  1.41it/s]\n",
      "  0%|                                                                                           | 0/23 [00:00<?, ?it/s]\u001b[A"
     ]
    },
    {
     "name": "stdout",
     "output_type": "stream",
     "text": [
      "['Vanilla essence', 'eggs'] is\n",
      "['Vanilla essence', 'eggs'] Remove\n",
      "['', 'greased baking tin'] was\n"
     ]
    },
    {
     "name": "stderr",
     "output_type": "stream",
     "text": [
      "\n",
      " 17%|██████████████▍                                                                    | 4/23 [00:00<00:00, 39.98it/s]\u001b[A"
     ]
    },
    {
     "name": "stdout",
     "output_type": "stream",
     "text": [
      "['', 'greased baking tin'] Begin\n",
      "['', 'greased baking tin'] Whisk\n",
      "['', 'greased baking tin'] add\n",
      "['', 'greased baking tin'] Beat\n",
      "['', 'greased baking tin'] Sift\n"
     ]
    },
    {
     "name": "stderr",
     "output_type": "stream",
     "text": [
      "\n",
      " 39%|████████████████████████████████▍                                                  | 9/23 [00:00<00:00, 40.54it/s]\u001b[A"
     ]
    },
    {
     "name": "stdout",
     "output_type": "stream",
     "text": [
      "['', 'greased baking tin'] done\n",
      "['', 'greased baking tin'] add\n",
      "['', 'greased baking tin'] add\n"
     ]
    },
    {
     "name": "stderr",
     "output_type": "stream",
     "text": [
      "\n",
      " 61%|█████████████████████████████████████████████████▉                                | 14/23 [00:00<00:00, 41.84it/s]\u001b[A"
     ]
    },
    {
     "name": "stdout",
     "output_type": "stream",
     "text": [
      "['', 'greased baking tin'] add\n",
      "['', 'greased baking tin'] Add\n",
      "['', 'greased baking tin'] is\n",
      "['', 'greased baking tin'] Sprinkle\n",
      "['', 'greased baking tin'] prevent\n",
      "['', 'greased baking tin'] line\n",
      "['', 'greased baking tin'] Pour\n",
      "['', 'greased baking tin'] add\n",
      "['', 'greased baking tin'] keep\n"
     ]
    },
    {
     "name": "stderr",
     "output_type": "stream",
     "text": [
      "\n",
      " 78%|████████████████████████████████████████████████████████████████▏                 | 18/23 [00:00<00:00, 39.98it/s]\u001b[A"
     ]
    },
    {
     "name": "stdout",
     "output_type": "stream",
     "text": [
      "['', 'greased baking tin'] Increase\n",
      "['', 'greased baking tin'] remove\n",
      "['', 'greased baking tin'] cook\n",
      "['', 'greased baking tin'] is\n",
      "['', 'greased baking tin']"
     ]
    },
    {
     "name": "stderr",
     "output_type": "stream",
     "text": [
      "\n",
      "100%|██████████████████████████████████████████████████████████████████████████████████| 23/23 [00:00<00:00, 41.25it/s]\u001b[A\n",
      " 57%|██████████████████████████████████████████████▎                                   | 13/23 [00:08<00:06,  1.50it/s]\n",
      "  0%|                                                                                           | 0/23 [00:00<?, ?it/s]\u001b[A"
     ]
    },
    {
     "name": "stdout",
     "output_type": "stream",
     "text": [
      " Remove\n",
      "['It', 'base'] was\n",
      "['It', 'base'] Begin\n",
      "['It', 'base']"
     ]
    },
    {
     "name": "stderr",
     "output_type": "stream",
     "text": [
      "\n",
      " 22%|██████████████████                                                                 | 5/23 [00:00<00:00, 42.83it/s]\u001b[A"
     ]
    },
    {
     "name": "stdout",
     "output_type": "stream",
     "text": [
      " Whisk\n",
      "['It', 'base'] add\n",
      "['It', 'base'] Beat\n",
      "['It', 'base'] Sift\n",
      "['It', 'base']"
     ]
    },
    {
     "name": "stderr",
     "output_type": "stream",
     "text": [
      "\n",
      " 43%|███████████████████████████████████▋                                              | 10/23 [00:00<00:00, 42.48it/s]\u001b[A"
     ]
    },
    {
     "name": "stdout",
     "output_type": "stream",
     "text": [
      " done\n",
      "['It', 'base'] add\n",
      "['It', 'base'] add\n",
      "['It', 'base'] add\n",
      "['It', 'base']"
     ]
    },
    {
     "name": "stderr",
     "output_type": "stream",
     "text": [
      "\n"
     ]
    },
    {
     "name": "stdout",
     "output_type": "stream",
     "text": [
      " Add\n",
      "['It', 'base'] is\n",
      "['It', 'base'] Sprinkle\n",
      "['It', 'base'] prevent\n",
      "['It', 'base'] line\n"
     ]
    },
    {
     "name": "stderr",
     "output_type": "stream",
     "text": [
      " 65%|█████████████████████████████████████████████████████▍                            | 15/23 [00:00<00:00, 43.42it/s]\u001b[A"
     ]
    },
    {
     "name": "stdout",
     "output_type": "stream",
     "text": [
      "['It', 'base'] Pour\n",
      "['It', 'base'] add\n",
      "['It', 'base']"
     ]
    },
    {
     "name": "stderr",
     "output_type": "stream",
     "text": [
      "\n",
      " 78%|████████████████████████████████████████████████████████████████▏                 | 18/23 [00:00<00:00, 38.16it/s]\u001b[A\n",
      "100%|██████████████████████████████████████████████████████████████████████████████████| 23/23 [00:00<00:00, 40.57it/s]\u001b[A\n",
      " 61%|█████████████████████████████████████████████████▉                                | 14/23 [00:09<00:05,  1.56it/s]\n"
     ]
    },
    {
     "name": "stdout",
     "output_type": "stream",
     "text": [
      " keep\n",
      "['It', 'base'] Increase\n",
      "['It', 'base'] remove\n",
      "['It', 'base'] cook\n",
      "['It', 'base'] is\n",
      "['It', 'base'] Remove\n"
     ]
    },
    {
     "name": "stderr",
     "output_type": "stream",
     "text": [
      "  0%|                                                                                           | 0/23 [00:00<?, ?it/s]\u001b[A"
     ]
    },
    {
     "name": "stdout",
     "output_type": "stream",
     "text": [
      "['You', 'also butter paper'] was\n",
      "['You', 'also butter paper'] Begin\n",
      "['You', 'also butter paper']"
     ]
    },
    {
     "name": "stderr",
     "output_type": "stream",
     "text": [
      "\n",
      " 22%|██████████████████                                                                 | 5/23 [00:00<00:00, 41.53it/s]\u001b[A"
     ]
    },
    {
     "name": "stdout",
     "output_type": "stream",
     "text": [
      " Whisk\n",
      "['You', 'also butter paper'] add\n",
      "['You', 'also butter paper'] Beat\n",
      "['You', 'also butter paper'] Sift\n",
      "['You', 'also butter paper'] done\n",
      "['You', 'also butter paper'] add\n",
      "['You', 'also butter paper'] add\n",
      "['You', 'also butter paper']"
     ]
    },
    {
     "name": "stderr",
     "output_type": "stream",
     "text": [
      "\n",
      " 48%|███████████████████████████████████████▏                                          | 11/23 [00:00<00:00, 44.84it/s]\u001b[A"
     ]
    },
    {
     "name": "stdout",
     "output_type": "stream",
     "text": [
      " add\n",
      "['You', 'also butter paper'] Add\n",
      "['You', 'also butter paper'] is"
     ]
    },
    {
     "name": "stderr",
     "output_type": "stream",
     "text": [
      "\n",
      " 74%|████████████████████████████████████████████████████████████▌                     | 17/23 [00:00<00:00, 47.25it/s]\u001b[A"
     ]
    },
    {
     "name": "stdout",
     "output_type": "stream",
     "text": [
      "\n",
      "['You', 'also butter paper'] Sprinkle\n",
      "['You', 'also butter paper'] prevent\n",
      "['You', 'also butter paper'] line\n",
      "['You', 'also butter paper'] Pour\n",
      "['You', 'also butter paper'] add\n",
      "['You', 'also butter paper'] keep\n",
      "['You', 'also butter paper'] Increase\n",
      "['You', 'also butter paper'] remove\n",
      "['You', 'also butter paper'] cook\n",
      "['You', 'also butter paper'] is\n",
      "['You', 'also butter paper']"
     ]
    },
    {
     "name": "stderr",
     "output_type": "stream",
     "text": [
      "\n",
      "100%|██████████████████████████████████████████████████████████████████████████████████| 23/23 [00:00<00:00, 51.11it/s]\u001b[A\n",
      " 65%|█████████████████████████████████████████████████████▍                            | 15/23 [00:09<00:04,  1.70it/s]\n",
      "  0%|                                                                                           | 0/23 [00:00<?, ?it/s]\u001b[A\n",
      " 26%|█████████████████████▋                                                             | 6/23 [00:00<00:00, 50.72it/s]\u001b[A"
     ]
    },
    {
     "name": "stdout",
     "output_type": "stream",
     "text": [
      " Remove\n",
      "['', 'prepared pressure cooker'] was\n",
      "['', 'prepared pressure cooker'] Begin\n",
      "['', 'prepared pressure cooker'] Whisk\n",
      "['', 'prepared pressure cooker'] add\n",
      "['', 'prepared pressure cooker'] Beat\n",
      "['', 'prepared pressure cooker'] Sift\n",
      "['', 'prepared pressure cooker'] done\n",
      "['', 'prepared pressure cooker'] add\n",
      "['', 'prepared pressure cooker']"
     ]
    },
    {
     "name": "stderr",
     "output_type": "stream",
     "text": [
      "\n",
      " 48%|███████████████████████████████████████▏                                          | 11/23 [00:00<00:00, 48.88it/s]\u001b[A"
     ]
    },
    {
     "name": "stdout",
     "output_type": "stream",
     "text": [
      " add\n",
      "['', 'prepared pressure cooker'] add\n",
      "['', 'prepared pressure cooker'] Add\n",
      "['', 'prepared pressure cooker'] is\n",
      "['', 'prepared pressure cooker'] Sprinkle\n",
      "['', 'prepared pressure cooker'] prevent\n"
     ]
    },
    {
     "name": "stderr",
     "output_type": "stream",
     "text": [
      "\n",
      " 65%|█████████████████████████████████████████████████████▍                            | 15/23 [00:00<00:00, 44.15it/s]\u001b[A"
     ]
    },
    {
     "name": "stdout",
     "output_type": "stream",
     "text": [
      "['', 'prepared pressure cooker'] line\n",
      "['', 'prepared pressure cooker']"
     ]
    },
    {
     "name": "stderr",
     "output_type": "stream",
     "text": [
      "\n",
      " 87%|███████████████████████████████████████████████████████████████████████▎          | 20/23 [00:00<00:00, 42.27it/s]\u001b[A"
     ]
    },
    {
     "name": "stdout",
     "output_type": "stream",
     "text": [
      " Pour\n",
      "['', 'prepared pressure cooker'] add\n",
      "['', 'prepared pressure cooker'] keep\n",
      "['', 'prepared pressure cooker'] Increase\n",
      "['', 'prepared pressure cooker'] remove\n",
      "['', 'prepared pressure cooker'] cook\n",
      "['', 'prepared pressure cooker']"
     ]
    },
    {
     "name": "stderr",
     "output_type": "stream",
     "text": [
      "100%|██████████████████████████████████████████████████████████████████████████████████| 23/23 [00:00<00:00, 42.16it/s]\n",
      " 70%|█████████████████████████████████████████████████████████                         | 16/23 [00:10<00:04,  1.73it/s]\n",
      "  0%|                                                                                           | 0/23 [00:00<?, ?it/s]\u001b[A"
     ]
    },
    {
     "name": "stdout",
     "output_type": "stream",
     "text": [
      " is\n",
      "['', 'prepared pressure cooker'] Remove\n"
     ]
    },
    {
     "name": "stderr",
     "output_type": "stream",
     "text": [
      "\n",
      " 22%|██████████████████                                                                 | 5/23 [00:00<00:00, 42.85it/s]\u001b[A"
     ]
    },
    {
     "name": "stdout",
     "output_type": "stream",
     "text": [
      "['tin', 'cooker'] was\n",
      "['tin', 'cooker'] Begin\n",
      "['tin', 'cooker'] Whisk\n",
      "['tin', 'cooker'] add\n",
      "['tin', 'cooker'] Beat\n",
      "['tin', 'cooker'] Sift\n",
      "['tin', 'cooker'] done\n",
      "['tin', 'cooker'] add\n",
      "['tin', 'cooker']"
     ]
    },
    {
     "name": "stderr",
     "output_type": "stream",
     "text": [
      "\n",
      " 39%|████████████████████████████████▍                                                  | 9/23 [00:00<00:00, 40.69it/s]\u001b[A\n",
      " 57%|██████████████████████████████████████████████▎                                   | 13/23 [00:00<00:00, 39.38it/s]\u001b[A"
     ]
    },
    {
     "name": "stdout",
     "output_type": "stream",
     "text": [
      " add\n",
      "['tin', 'cooker'] add\n",
      "['tin', 'cooker'] Add\n",
      "['tin', 'cooker'] is\n",
      "['tin', 'cooker'] Sprinkle\n",
      "['tin', 'cooker'] prevent\n",
      "['tin', 'cooker'] line\n",
      "['tin', 'cooker']"
     ]
    },
    {
     "name": "stderr",
     "output_type": "stream",
     "text": [
      "\n",
      " 78%|████████████████████████████████████████████████████████████████▏                 | 18/23 [00:00<00:00, 39.83it/s]\u001b[A"
     ]
    },
    {
     "name": "stdout",
     "output_type": "stream",
     "text": [
      " Pour\n",
      "['tin', 'cooker'] add\n",
      "['tin', 'cooker'] keep\n",
      "['tin', 'cooker'] Increase\n",
      "['tin', 'cooker'] remove\n",
      "['tin', 'cooker'] cook\n"
     ]
    },
    {
     "name": "stderr",
     "output_type": "stream",
     "text": [
      "\n",
      "100%|██████████████████████████████████████████████████████████████████████████████████| 23/23 [00:00<00:00, 32.09it/s]\u001b[A\n",
      " 74%|████████████████████████████████████████████████████████████▌                     | 17/23 [00:10<00:03,  1.61it/s]\n",
      "  0%|                                                                                           | 0/23 [00:00<?, ?it/s]\u001b[A"
     ]
    },
    {
     "name": "stdout",
     "output_type": "stream",
     "text": [
      "['tin', 'cooker'] is\n",
      "['tin', 'cooker'] Remove\n",
      "['You', 'inverted steel plate'] was\n",
      "['You', 'inverted steel plate']"
     ]
    },
    {
     "name": "stderr",
     "output_type": "stream",
     "text": [
      "\n",
      " 13%|██████████▊                                                                        | 3/23 [00:00<00:00, 27.19it/s]\u001b[A\n",
      " 35%|████████████████████████████▊                                                      | 8/23 [00:00<00:00, 30.63it/s]\u001b[A"
     ]
    },
    {
     "name": "stdout",
     "output_type": "stream",
     "text": [
      " Begin\n",
      "['You', 'inverted steel plate'] Whisk\n",
      "['You', 'inverted steel plate'] add\n",
      "['You', 'inverted steel plate'] Beat\n",
      "['You', 'inverted steel plate'] Sift\n",
      "['You', 'inverted steel plate'] done\n",
      "['You', 'inverted steel plate'] add\n",
      "['You', 'inverted steel plate'] add\n"
     ]
    },
    {
     "name": "stderr",
     "output_type": "stream",
     "text": [
      "\n",
      " 52%|██████████████████████████████████████████▊                                       | 12/23 [00:00<00:00, 32.94it/s]\u001b[A\n",
      " 74%|████████████████████████████████████████████████████████████▌                     | 17/23 [00:00<00:00, 35.16it/s]\u001b[A"
     ]
    },
    {
     "name": "stdout",
     "output_type": "stream",
     "text": [
      "['You', 'inverted steel plate'] add\n",
      "['You', 'inverted steel plate'] Add\n",
      "['You', 'inverted steel plate'] is\n",
      "['You', 'inverted steel plate'] Sprinkle\n",
      "['You', 'inverted steel plate'] prevent\n",
      "['You', 'inverted steel plate'] line\n",
      "['You', 'inverted steel plate'] Pour\n",
      "['You', 'inverted steel plate'] add\n"
     ]
    },
    {
     "name": "stderr",
     "output_type": "stream",
     "text": [
      "\n",
      "100%|██████████████████████████████████████████████████████████████████████████████████| 23/23 [00:00<00:00, 36.93it/s]\u001b[A\n",
      " 78%|████████████████████████████████████████████████████████████████▏                 | 18/23 [00:11<00:03,  1.58it/s]\n",
      "  0%|                                                                                           | 0/23 [00:00<?, ?it/s]\u001b[A"
     ]
    },
    {
     "name": "stdout",
     "output_type": "stream",
     "text": [
      "['You', 'inverted steel plate'] keep\n",
      "['You', 'inverted steel plate'] Increase\n",
      "['You', 'inverted steel plate'] remove\n",
      "['You', 'inverted steel plate'] cook\n",
      "['You', 'inverted steel plate'] is\n",
      "['You', 'inverted steel plate'] Remove\n",
      "['', 'two pressure minutes'] was\n",
      "['', 'two pressure minutes'] Begin\n",
      "['', 'two pressure minutes']"
     ]
    },
    {
     "name": "stderr",
     "output_type": "stream",
     "text": [
      "\n",
      " 22%|██████████████████                                                                 | 5/23 [00:00<00:00, 44.61it/s]\u001b[A\n",
      " 48%|███████████████████████████████████████▏                                          | 11/23 [00:00<00:00, 46.93it/s]\u001b[A"
     ]
    },
    {
     "name": "stdout",
     "output_type": "stream",
     "text": [
      " Whisk\n",
      "['', 'two pressure minutes'] add\n",
      "['', 'two pressure minutes'] Beat\n",
      "['', 'two pressure minutes'] Sift\n",
      "['', 'two pressure minutes'] done\n",
      "['', 'two pressure minutes'] add\n",
      "['', 'two pressure minutes'] add\n",
      "['', 'two pressure minutes'] add\n",
      "['', 'two pressure minutes'] Add\n",
      "['', 'two pressure minutes']"
     ]
    },
    {
     "name": "stderr",
     "output_type": "stream",
     "text": [
      "\n",
      " 74%|████████████████████████████████████████████████████████████▌                     | 17/23 [00:00<00:00, 49.10it/s]\u001b[A\n",
      " 96%|██████████████████████████████████████████████████████████████████████████████▍   | 22/23 [00:00<00:00, 49.35it/s]\u001b[A"
     ]
    },
    {
     "name": "stdout",
     "output_type": "stream",
     "text": [
      " is\n",
      "['', 'two pressure minutes'] Sprinkle\n",
      "['', 'two pressure minutes'] prevent\n",
      "['', 'two pressure minutes'] line\n",
      "['', 'two pressure minutes'] Pour\n",
      "['', 'two pressure minutes'] add\n",
      "['', 'two pressure minutes'] keep\n",
      "['', 'two pressure minutes'] Increase\n",
      "['', 'two pressure minutes'] remove\n",
      "['', 'two pressure minutes'] cook\n",
      "['', 'two pressure minutes'] is\n"
     ]
    },
    {
     "name": "stderr",
     "output_type": "stream",
     "text": [
      "100%|██████████████████████████████████████████████████████████████████████████████████| 23/23 [00:00<00:00, 49.54it/s]\n",
      " 83%|███████████████████████████████████████████████████████████████████▋              | 19/23 [00:12<00:02,  1.71it/s]\n",
      "  0%|                                                                                           | 0/23 [00:00<?, ?it/s]\u001b[A\n",
      " 17%|██████████████▍                                                                    | 4/23 [00:00<00:00, 36.18it/s]\u001b[A"
     ]
    },
    {
     "name": "stdout",
     "output_type": "stream",
     "text": [
      "['', 'two pressure minutes'] Remove\n",
      "['', '35  minutes'] was\n",
      "['', '35  minutes'] Begin\n",
      "['', '35  minutes'] Whisk\n",
      "['', '35  minutes'] add\n",
      "['', '35  minutes'] Beat\n",
      "['', '35  minutes'] Sift\n",
      "['', '35  minutes'] done\n"
     ]
    },
    {
     "name": "stderr",
     "output_type": "stream",
     "text": [
      "\n",
      " 39%|████████████████████████████████▍                                                  | 9/23 [00:00<00:00, 39.44it/s]\u001b[A\n",
      " 65%|█████████████████████████████████████████████████████▍                            | 15/23 [00:00<00:00, 42.11it/s]\u001b[A"
     ]
    },
    {
     "name": "stdout",
     "output_type": "stream",
     "text": [
      "['', '35  minutes'] add\n",
      "['', '35  minutes'] add\n",
      "['', '35  minutes'] add\n",
      "['', '35  minutes'] Add\n",
      "['', '35  minutes'] is\n",
      "['', '35  minutes'] Sprinkle\n",
      "['', '35  minutes'] prevent\n",
      "['', '35  minutes'] line\n",
      "['', '35  minutes'] Pour\n",
      "['', '35  minutes']"
     ]
    },
    {
     "name": "stderr",
     "output_type": "stream",
     "text": [
      "\n",
      "100%|██████████████████████████████████████████████████████████████████████████████████| 23/23 [00:00<00:00, 43.36it/s]\u001b[A\n",
      " 87%|███████████████████████████████████████████████████████████████████████▎          | 20/23 [00:12<00:01,  1.75it/s]\n",
      "  0%|                                                                                           | 0/23 [00:00<?, ?it/s]\u001b[A"
     ]
    },
    {
     "name": "stdout",
     "output_type": "stream",
     "text": [
      " add\n",
      "['', '35  minutes'] keep\n",
      "['', '35  minutes'] Increase\n",
      "['', '35  minutes'] remove\n",
      "['', '35  minutes'] cook\n",
      "['', '35  minutes'] is\n",
      "['', '35  minutes'] Remove\n",
      "['you', '35  minutes'] was\n",
      "['you', '35  minutes']"
     ]
    },
    {
     "name": "stderr",
     "output_type": "stream",
     "text": [
      "\n",
      " 22%|██████████████████                                                                 | 5/23 [00:00<00:00, 43.15it/s]\u001b[A"
     ]
    },
    {
     "name": "stdout",
     "output_type": "stream",
     "text": [
      " Begin\n",
      "['you', '35  minutes'] Whisk\n",
      "['you', '35  minutes'] add\n",
      "['you', '35  minutes'] Beat\n",
      "['you', '35  minutes'] Sift\n",
      "['you', '35  minutes'] done\n"
     ]
    },
    {
     "name": "stderr",
     "output_type": "stream",
     "text": [
      "\n",
      " 35%|████████████████████████████▊                                                      | 8/23 [00:00<00:00, 33.70it/s]\u001b[A\n",
      " 52%|██████████████████████████████████████████▊                                       | 12/23 [00:00<00:00, 34.49it/s]\u001b[A"
     ]
    },
    {
     "name": "stdout",
     "output_type": "stream",
     "text": [
      "['you', '35  minutes'] add\n",
      "['you', '35  minutes'] add\n",
      "['you', '35  minutes'] add\n",
      "['you', '35  minutes'] Add\n",
      "['you', '35  minutes'] is\n",
      "['you', '35  minutes'] Sprinkle\n",
      "['you', '35  minutes'] prevent\n",
      "['you', '35  minutes'] line\n"
     ]
    },
    {
     "name": "stderr",
     "output_type": "stream",
     "text": [
      "\n",
      " 78%|████████████████████████████████████████████████████████████████▏                 | 18/23 [00:00<00:00, 37.30it/s]\u001b[A\n",
      " 96%|██████████████████████████████████████████████████████████████████████████████▍   | 22/23 [00:00<00:00, 37.03it/s]\u001b[A"
     ]
    },
    {
     "name": "stdout",
     "output_type": "stream",
     "text": [
      "['you', '35  minutes'] Pour\n",
      "['you', '35  minutes'] add\n",
      "['you', '35  minutes'] keep\n",
      "['you', '35  minutes'] Increase\n",
      "['you', '35  minutes'] remove\n",
      "['you', '35  minutes'] cook\n",
      "['you', '35  minutes'] is\n",
      "['you', '35  minutes']"
     ]
    },
    {
     "name": "stderr",
     "output_type": "stream",
     "text": [
      "100%|██████████████████████████████████████████████████████████████████████████████████| 23/23 [00:00<00:00, 36.48it/s]\n",
      " 91%|██████████████████████████████████████████████████████████████████████████▊       | 21/23 [00:13<00:01,  1.68it/s]\n",
      "  0%|                                                                                           | 0/23 [00:00<?, ?it/s]\u001b[A\n",
      " 22%|██████████████████                                                                 | 5/23 [00:00<00:00, 45.55it/s]\u001b[A"
     ]
    },
    {
     "name": "stdout",
     "output_type": "stream",
     "text": [
      " Remove\n",
      "['then  cake', 'metal cake'] was\n",
      "['then  cake', 'metal cake'] Begin\n",
      "['then  cake', 'metal cake'] Whisk\n",
      "['then  cake', 'metal cake'] add\n",
      "['then  cake', 'metal cake'] Beat\n",
      "['then  cake', 'metal cake'] Sift\n",
      "['then  cake', 'metal cake'] done\n",
      "['then  cake', 'metal cake']"
     ]
    },
    {
     "name": "stderr",
     "output_type": "stream",
     "text": [
      "\n",
      " 43%|███████████████████████████████████▋                                              | 10/23 [00:00<00:00, 45.47it/s]\u001b[A\n",
      " 70%|█████████████████████████████████████████████████████████                         | 16/23 [00:00<00:00, 47.88it/s]\u001b[A"
     ]
    },
    {
     "name": "stdout",
     "output_type": "stream",
     "text": [
      " add\n",
      "['then  cake', 'metal cake'] add\n",
      "['then  cake', 'metal cake'] add\n",
      "['then  cake', 'metal cake'] Add\n",
      "['then  cake', 'metal cake'] is\n",
      "['then  cake', 'metal cake'] Sprinkle\n",
      "['then  cake', 'metal cake'] prevent\n",
      "['then  cake', 'metal cake'] line\n",
      "['then  cake', 'metal cake'] Pour\n",
      "['then  cake', 'metal cake']"
     ]
    },
    {
     "name": "stderr",
     "output_type": "stream",
     "text": [
      "\n",
      "100%|██████████████████████████████████████████████████████████████████████████████████| 23/23 [00:00<00:00, 44.22it/s]\u001b[A\n",
      " 96%|██████████████████████████████████████████████████████████████████████████████▍   | 22/23 [00:13<00:00,  1.75it/s]\n",
      "  0%|                                                                                           | 0/23 [00:00<?, ?it/s]\u001b[A"
     ]
    },
    {
     "name": "stdout",
     "output_type": "stream",
     "text": [
      " add\n",
      "['then  cake', 'metal cake'] keep\n",
      "['then  cake', 'metal cake'] Increase\n",
      "['then  cake', 'metal cake'] remove\n",
      "['then  cake', 'metal cake'] cook\n",
      "['then  cake', 'metal cake'] is\n",
      "['then  cake', 'metal cake'] Remove\n",
      "['', 'oven wire rack']"
     ]
    },
    {
     "name": "stderr",
     "output_type": "stream",
     "text": [
      "\n",
      " 17%|██████████████▍                                                                    | 4/23 [00:00<00:00, 36.22it/s]\u001b[A"
     ]
    },
    {
     "name": "stdout",
     "output_type": "stream",
     "text": [
      " was\n",
      "['', 'oven wire rack'] Begin\n",
      "['', 'oven wire rack'] Whisk\n",
      "['', 'oven wire rack'] add\n",
      "['', 'oven wire rack'] Beat\n",
      "['', 'oven wire rack'] Sift\n",
      "['', 'oven wire rack']"
     ]
    },
    {
     "name": "stderr",
     "output_type": "stream",
     "text": [
      "\n",
      " 30%|█████████████████████████▎                                                         | 7/23 [00:00<00:00, 32.99it/s]\u001b[A\n",
      " 52%|██████████████████████████████████████████▊                                       | 12/23 [00:00<00:00, 36.40it/s]\u001b[A"
     ]
    },
    {
     "name": "stdout",
     "output_type": "stream",
     "text": [
      " done\n",
      "['', 'oven wire rack'] add\n",
      "['', 'oven wire rack'] add\n",
      "['', 'oven wire rack'] add\n",
      "['', 'oven wire rack'] Add\n",
      "['', 'oven wire rack'] is\n",
      "['', 'oven wire rack'] Sprinkle\n",
      "['', 'oven wire rack'] prevent\n"
     ]
    },
    {
     "name": "stderr",
     "output_type": "stream",
     "text": [
      "\n",
      " 65%|█████████████████████████████████████████████████████▍                            | 15/23 [00:00<00:00, 32.50it/s]\u001b[A\n",
      " 83%|███████████████████████████████████████████████████████████████████▋              | 19/23 [00:00<00:00, 33.17it/s]\u001b[A"
     ]
    },
    {
     "name": "stdout",
     "output_type": "stream",
     "text": [
      "['', 'oven wire rack'] line\n",
      "['', 'oven wire rack'] Pour\n",
      "['', 'oven wire rack'] add\n",
      "['', 'oven wire rack'] keep\n",
      "['', 'oven wire rack'] Increase\n",
      "['', 'oven wire rack'] remove\n",
      "['', 'oven wire rack'] cook\n"
     ]
    },
    {
     "name": "stderr",
     "output_type": "stream",
     "text": [
      "\n",
      "100%|██████████████████████████████████████████████████████████████████████████████████| 23/23 [00:00<00:00, 34.08it/s]\u001b[A\n",
      "100%|██████████████████████████████████████████████████████████████████████████████████| 23/23 [00:14<00:00,  1.59it/s]"
     ]
    },
    {
     "name": "stdout",
     "output_type": "stream",
     "text": [
      "['', 'oven wire rack'] is\n",
      "['', 'oven wire rack'] Remove\n"
     ]
    },
    {
     "name": "stderr",
     "output_type": "stream",
     "text": [
      "\n"
     ]
    }
   ],
   "source": [
    "\n",
    "for i in tqdm(candidate_sentences['sentences']):\n",
    "    for j in tqdm(candidate_sentences['sentences']):\n",
    "        print(get_entity(i),get_relation(j))"
   ]
  },
  {
   "cell_type": "code",
   "execution_count": 15,
   "metadata": {},
   "outputs": [
    {
     "data": {
      "text/plain": [
       "(['John', 'task'], 'complete')"
      ]
     },
     "execution_count": 15,
     "metadata": {},
     "output_type": "execute_result"
    }
   ],
   "source": [
    "get_entity(\"John couldn't complete the task\"), get_relation(\"John couldn't complete the task\")"
   ]
  },
  {
   "cell_type": "code",
   "execution_count": 16,
   "metadata": {},
   "outputs": [
    {
     "name": "stderr",
     "output_type": "stream",
     "text": [
      "100%|█████████████████████████████████████████████████████████████████████████████████| 23/23 [00:00<00:00, 106.93it/s]\n"
     ]
    }
   ],
   "source": [
    "relations = [get_relation(i) for i in tqdm(candidate_sentences['sentences'])]\n",
    "tqdm._instances.clear()"
   ]
  },
  {
   "cell_type": "code",
   "execution_count": 17,
   "metadata": {},
   "outputs": [
    {
     "data": {
      "text/plain": [
       "                    11\n",
       "You                  2\n",
       "It                   2\n",
       "tin                  1\n",
       "then  cake           1\n",
       "Vanilla essence      1\n",
       "you                  1\n",
       "entire  it           1\n",
       "further  mixture     1\n",
       "little  batter       1\n",
       "Making               1\n",
       "dtype: int64"
      ]
     },
     "execution_count": 17,
     "metadata": {},
     "output_type": "execute_result"
    }
   ],
   "source": [
    "pd.Series(subjects).value_counts()[:]"
   ]
  },
  {
   "cell_type": "code",
   "execution_count": 18,
   "metadata": {},
   "outputs": [
    {
     "data": {
      "text/plain": [
       "add         5\n",
       "is          2\n",
       "Add         1\n",
       "Increase    1\n",
       "was         1\n",
       "Sift        1\n",
       "Pour        1\n",
       "done        1\n",
       "Begin       1\n",
       "Remove      1\n",
       "dtype: int64"
      ]
     },
     "execution_count": 18,
     "metadata": {},
     "output_type": "execute_result"
    }
   ],
   "source": [
    "pd.Series(relations).value_counts()[:10]"
   ]
  },
  {
   "cell_type": "code",
   "execution_count": 19,
   "metadata": {},
   "outputs": [],
   "source": [
    "\n",
    "import nltk\n",
    "import re\n",
    "import pandas as pd\n",
    "import spacy\n",
    "from tqdm import tqdm\n",
    "# Load English tokenizer, tagger, parser, NER and word vectors\n",
    "nlp = spacy.load(\"en_core_web_sm\")\n",
    "from spacy.matcher import Matcher\n",
    "import networkx as nx\n",
    "import matplotlib.pyplot as plt\n",
    "import nltk\n",
    "from nltk.tokenize import word_tokenize\n",
    "from nltk.corpus import stopwords\n",
    "import re\n",
    "import string \n",
    "tqdm._instances.clear()"
   ]
  },
  {
   "cell_type": "code",
   "execution_count": 20,
   "metadata": {},
   "outputs": [],
   "source": [
    "\n",
    "def isNotStopWord(word):\n",
    "    return word not in stopwords.words('english')\n",
    "\n",
    "def preprocess(sent):\n",
    "  sent = re.sub(\"[\\(\\[].*?[\\)\\]]\", \"\", sent)\n",
    "  tokens = []\n",
    "  temp = \"\"\n",
    "  words = word_tokenize(sent)\n",
    "  # Removing punctuations except '<.>/<?>/<!>'\n",
    "  punctuations = '\"#$%&\\'()*+,-/:;<=>@\\\\^_`{|}~'\n",
    "  words = map(lambda x: x.translate(str.maketrans('','',punctuations)), words)\n",
    "  \n",
    "  #Now, we remove the stopwords\n",
    "  words = map(str.lower,words)\n",
    "  words = filter(lambda x: isNotStopWord(x),words)\n",
    "  tokens = tokens + list(words)\n",
    "  temp = ' '.join(word for word in tokens)\n",
    "  return temp\n"
   ]
  },
  {
   "cell_type": "code",
   "execution_count": 21,
   "metadata": {},
   "outputs": [
    {
     "name": "stderr",
     "output_type": "stream",
     "text": [
      "[nltk_data] Downloading package stopwords to\n",
      "[nltk_data]     C:\\Users\\x1\\AppData\\Roaming\\nltk_data...\n",
      "[nltk_data]   Package stopwords is already up-to-date!\n"
     ]
    },
    {
     "data": {
      "text/plain": [
       "True"
      ]
     },
     "execution_count": 21,
     "metadata": {},
     "output_type": "execute_result"
    }
   ],
   "source": [
    "import nltk\n",
    "nltk.download('stopwords')"
   ]
  },
  {
   "cell_type": "code",
   "execution_count": 22,
   "metadata": {},
   "outputs": [
    {
     "name": "stderr",
     "output_type": "stream",
     "text": [
      "100%|██████████████████████████████████████████████████████████████████████████████████| 23/23 [00:00<00:00, 97.82it/s]\n"
     ]
    }
   ],
   "source": [
    "preprocessed_sentences = [preprocess(i) for i in tqdm(candidate_sentences['sentences'])]\n",
    "tqdm._instances.clear()"
   ]
  },
  {
   "cell_type": "code",
   "execution_count": 23,
   "metadata": {},
   "outputs": [
    {
     "name": "stderr",
     "output_type": "stream",
     "text": [
      "100%|█████████████████████████████████████████████████████████████████████████████████| 23/23 [00:00<00:00, 137.12it/s]\n"
     ]
    }
   ],
   "source": [
    "entity_pairs = []\n",
    "for i in tqdm(preprocessed_sentences):\n",
    "  entity_pairs.append(get_entity(i))\n",
    "tqdm._instances.clear()"
   ]
  },
  {
   "cell_type": "code",
   "execution_count": 24,
   "metadata": {},
   "outputs": [
    {
     "name": "stderr",
     "output_type": "stream",
     "text": [
      "100%|█████████████████████████████████████████████████████████████████████████████████| 23/23 [00:00<00:00, 143.39it/s]\n"
     ]
    }
   ],
   "source": [
    "relations = [get_relation(i) for i in tqdm(preprocessed_sentences)]\n",
    "tqdm._instances.clear()"
   ]
  },
  {
   "cell_type": "code",
   "execution_count": 25,
   "metadata": {},
   "outputs": [
    {
     "data": {
      "text/plain": [
       "add         4\n",
       "remove      2\n",
       "done        2\n",
       "greased     1\n",
       "paper       1\n",
       "making      1\n",
       "whisk       1\n",
       "begin       1\n",
       "increase    1\n",
       "essence     1\n",
       "dtype: int64"
      ]
     },
     "execution_count": 25,
     "metadata": {},
     "output_type": "execute_result"
    }
   ],
   "source": [
    "pd.Series(relations).value_counts()[:10]"
   ]
  },
  {
   "cell_type": "code",
   "execution_count": 26,
   "metadata": {},
   "outputs": [
    {
     "name": "stderr",
     "output_type": "stream",
     "text": [
      "100%|██████████████████████████████████████████████████████████████████████████████████████████| 23/23 [00:00<?, ?it/s]\n"
     ]
    }
   ],
   "source": [
    "entity_pairs2 = entity_pairs\n",
    "relations2 = relations\n",
    "#We keep relations only for those entities whose both source and target are present\n",
    "entity_pairs3 = []\n",
    "relations3 = []\n",
    "for i in tqdm(range(len(entity_pairs2))):\n",
    "  if entity_pairs2[i][0]!='' and entity_pairs2[i][1]!='':\n",
    "    entity_pairs3.append(entity_pairs2[i])\n",
    "    relations3.append(relations2[i])\n",
    "tqdm._instances.clear()"
   ]
  },
  {
   "cell_type": "code",
   "execution_count": 27,
   "metadata": {},
   "outputs": [],
   "source": [
    "source = [i[0] for i in entity_pairs]\n",
    "\n",
    "# extract object\n",
    "target = [i[1] for i in entity_pairs]\n",
    "edge = [i[0] for i in relations]"
   ]
  },
  {
   "cell_type": "code",
   "execution_count": 28,
   "metadata": {},
   "outputs": [
    {
     "name": "stdout",
     "output_type": "stream",
     "text": [
      "making\n",
      "begin\n",
      "whisk\n",
      "done\n",
      "turns\n",
      "sift\n",
      "done\n",
      "add\n",
      "required\n",
      "add\n",
      "add\n",
      "essence\n",
      "greased\n",
      "prevent\n",
      "paper\n",
      "pour\n",
      "add\n",
      "keep\n",
      "increase\n",
      "remove\n",
      "using\n",
      "comes\n",
      "remove\n"
     ]
    }
   ],
   "source": [
    "for x in range(len(relations)):\n",
    "    print(relations[x])"
   ]
  },
  {
   "cell_type": "code",
   "execution_count": 29,
   "metadata": {},
   "outputs": [
    {
     "name": "stdout",
     "output_type": "stream",
     "text": [
      "homemade sponge cake\n",
      "\n",
      "\n",
      "\n",
      "beat  mixture\n",
      "\n",
      "\n",
      "gradually\n",
      "\n",
      "\n",
      "\n",
      "\n",
      "sprinkle maida\n",
      "\n",
      "\n",
      "\n",
      "\n",
      "\n",
      "\n",
      "whistle\n",
      "oven\n",
      "\n",
      "\n"
     ]
    }
   ],
   "source": [
    "for x in range(len(source)):\n",
    "    print(source[x])\n",
    "    "
   ]
  },
  {
   "cell_type": "code",
   "execution_count": 30,
   "metadata": {},
   "outputs": [
    {
     "data": {
      "text/plain": [
       "'\"\"\\nsource = []\\ntarget = []\\n\\n\\nfor i in (range(len(entity_pairs))):\\n  doc_source = nlp(entity_pairs[i][0]).ents #Getting the named entities for source\\n  #Converting the named entity tuple to String\\n  str_source = [str(word) for word in doc_source]\\n  doc_source = \\' \\'.join(str_source)\\n  doc_target = nlp(entity_pairs[i][1]).ents #Getting the named entities for target\\n  #Converting the named entity tuple to String\\n  str_target = [str(word) for word in doc_target]\\n  doc_target = \\' \\'.join(str_target)\\n  if doc_source != \\'\\' or doc_target != \\'\\':\\n    edge.append(relations[i])\\n    source.append(entity_pairs[i][0])\\n    target.append(entity_pairs[i][1])\\n'"
      ]
     },
     "execution_count": 30,
     "metadata": {},
     "output_type": "execute_result"
    }
   ],
   "source": [
    "\"\"\"\"\"\n",
    "source = []\n",
    "target = []\n",
    "\n",
    "\n",
    "for i in (range(len(entity_pairs))):\n",
    "  doc_source = nlp(entity_pairs[i][0]).ents #Getting the named entities for source\n",
    "  #Converting the named entity tuple to String\n",
    "  str_source = [str(word) for word in doc_source]\n",
    "  doc_source = ' '.join(str_source)\n",
    "  doc_target = nlp(entity_pairs[i][1]).ents #Getting the named entities for target\n",
    "  #Converting the named entity tuple to String\n",
    "  str_target = [str(word) for word in doc_target]\n",
    "  doc_target = ' '.join(str_target)\n",
    "  if doc_source != '' or doc_target != '':\n",
    "    edge.append(relations[i])\n",
    "    source.append(entity_pairs[i][0])\n",
    "    target.append(entity_pairs[i][1])\n",
    "\"\"\"\"\""
   ]
  },
  {
   "cell_type": "code",
   "execution_count": 31,
   "metadata": {},
   "outputs": [
    {
     "name": "stdout",
     "output_type": "stream",
     "text": [
      "homemade sponge cake\n",
      "\n",
      "\n",
      "\n",
      "beat  mixture\n",
      "\n",
      "\n",
      "gradually\n",
      "\n",
      "\n",
      "\n",
      "\n",
      "sprinkle maida\n",
      "\n",
      "\n",
      "\n",
      "\n",
      "\n",
      "\n",
      "whistle\n",
      "oven\n",
      "\n",
      "\n"
     ]
    }
   ],
   "source": [
    "for x in range(len(source)):\n",
    "    print(source[x]),"
   ]
  },
  {
   "cell_type": "code",
   "execution_count": 32,
   "metadata": {},
   "outputs": [
    {
     "name": "stdout",
     "output_type": "stream",
     "text": [
      "###################  Most popular source entites    ###################### \n",
      "                         17\n",
      "beat  mixture            1\n",
      "oven                     1\n",
      "gradually                1\n",
      "homemade sponge cake     1\n",
      "sprinkle maida           1\n",
      "whistle                  1\n",
      "dtype: int64\n",
      "###################  Most popular target entites    ###################### \n",
      "                                    5\n",
      "baking soda flour                  1\n",
      "allpurpose flour baking soda       1\n",
      "low  flame                         1\n",
      "mixture stand pressure cooker      1\n",
      "two  minutes                       1\n",
      "beaten  eggs                       1\n",
      "important camouflage smell eggs    1\n",
      "180  degrees                       1\n",
      "gradually egg mixture              1\n",
      "dtype: int64\n",
      "###################  Most popular relations         ###################### \n",
      " add         4\n",
      "remove      2\n",
      "done        2\n",
      "greased     1\n",
      "paper       1\n",
      "making      1\n",
      "whisk       1\n",
      "begin       1\n",
      "increase    1\n",
      "essence     1\n",
      "sift        1\n",
      "turns       1\n",
      "required    1\n",
      "pour        1\n",
      "keep        1\n",
      "prevent     1\n",
      "using       1\n",
      "comes       1\n",
      "dtype: int64\n"
     ]
    }
   ],
   "source": [
    "print(\"###################  Most popular source entites    ###################### \\n\",pd.Series(source).value_counts()[:])\n",
    "print(\"###################  Most popular target entites    ###################### \\n\",pd.Series(target).value_counts()[:10])\n",
    "print(\"###################  Most popular relations         ###################### \\n\",pd.Series(relations).value_counts()[:20])"
   ]
  },
  {
   "cell_type": "code",
   "execution_count": 33,
   "metadata": {},
   "outputs": [
    {
     "data": {
      "text/html": [
       "<div>\n",
       "<style scoped>\n",
       "    .dataframe tbody tr th:only-of-type {\n",
       "        vertical-align: middle;\n",
       "    }\n",
       "\n",
       "    .dataframe tbody tr th {\n",
       "        vertical-align: top;\n",
       "    }\n",
       "\n",
       "    .dataframe thead th {\n",
       "        text-align: right;\n",
       "    }\n",
       "</style>\n",
       "<table border=\"1\" class=\"dataframe\">\n",
       "  <thead>\n",
       "    <tr style=\"text-align: right;\">\n",
       "      <th></th>\n",
       "      <th>source</th>\n",
       "      <th>target</th>\n",
       "      <th>edge</th>\n",
       "    </tr>\n",
       "  </thead>\n",
       "  <tbody>\n",
       "    <tr>\n",
       "      <th>0</th>\n",
       "      <td>homemade sponge cake</td>\n",
       "      <td></td>\n",
       "      <td>m</td>\n",
       "    </tr>\n",
       "    <tr>\n",
       "      <th>1</th>\n",
       "      <td></td>\n",
       "      <td>sugar butter</td>\n",
       "      <td>b</td>\n",
       "    </tr>\n",
       "    <tr>\n",
       "      <th>2</th>\n",
       "      <td></td>\n",
       "      <td></td>\n",
       "      <td>w</td>\n",
       "    </tr>\n",
       "    <tr>\n",
       "      <th>3</th>\n",
       "      <td></td>\n",
       "      <td>beaten  eggs</td>\n",
       "      <td>d</td>\n",
       "    </tr>\n",
       "    <tr>\n",
       "      <th>4</th>\n",
       "      <td>beat  mixture</td>\n",
       "      <td>white  creamy</td>\n",
       "      <td>t</td>\n",
       "    </tr>\n",
       "  </tbody>\n",
       "</table>\n",
       "</div>"
      ],
      "text/plain": [
       "                 source         target edge\n",
       "0  homemade sponge cake                   m\n",
       "1                         sugar butter    b\n",
       "2                                         w\n",
       "3                         beaten  eggs    d\n",
       "4         beat  mixture  white  creamy    t"
      ]
     },
     "execution_count": 33,
     "metadata": {},
     "output_type": "execute_result"
    }
   ],
   "source": [
    "knowledge_graph_df = pd.DataFrame({'source':source, 'target':target, 'edge':edge})\n",
    "knowledge_graph_df.head()\n",
    "#MultiDIGRaph because its a directional graph"
   ]
  },
  {
   "cell_type": "code",
   "execution_count": 34,
   "metadata": {},
   "outputs": [
    {
     "data": {
      "image/png": "[encoded data removed]",
      "text/plain": [
       "<Figure size 720x720 with 1 Axes>"
      ]
     },
     "metadata": {},
     "output_type": "display_data"
    }
   ],
   "source": [
    "G=nx.from_pandas_edgelist(knowledge_graph_df, \"source\", \"target\", \n",
    "                          edge_attr=True, create_using=nx.MultiDiGraph())\n",
    "plt.figure(figsize = (10,10))\n",
    "pox = nx.spring_layout(G,k = 1.0) #k defines the distnace between nodes\n",
    "nx.draw(G, with_labels= True, node_size = 2500)\n",
    "plt.show()"
   ]
  },
  {
   "cell_type": "code",
   "execution_count": 35,
   "metadata": {},
   "outputs": [
    {
     "ename": "SyntaxError",
     "evalue": "invalid syntax (<ipython-input-35-816b42df2f34>, line 1)",
     "output_type": "error",
     "traceback": [
      "\u001b[1;36m  File \u001b[1;32m\"<ipython-input-35-816b42df2f34>\"\u001b[1;36m, line \u001b[1;32m1\u001b[0m\n\u001b[1;33m    G = nx.from_pandas_edgelist(knowledge_graph_df[knowledge_graph_df,source = 'source', target = 'target', edge_attr = True, create_using= nx.MultiDiGraph())\u001b[0m\n\u001b[1;37m                                                                             ^\u001b[0m\n\u001b[1;31mSyntaxError\u001b[0m\u001b[1;31m:\u001b[0m invalid syntax\n"
     ]
    }
   ],
   "source": [
    "G = nx.from_pandas_edgelist(knowledge_graph_df[knowledge_graph_df,source = 'source', target = 'target', edge_attr = True, create_using= nx.MultiDiGraph())\n",
    "#MultiDIGRaph because its a directional graph\n",
    "plt.figure(figsize = (10,10))\n",
    "pox = nx.spring_layout(G,k = 1.0) #k defines the distnace between nodes\n",
    "nx.draw(G, with_labels= True, node_size = 2500)\n",
    "plt.show()"
   ]
  },
  {
   "cell_type": "code",
   "execution_count": null,
   "metadata": {},
   "outputs": [],
   "source": []
  },
  {
   "cell_type": "code",
   "execution_count": null,
   "metadata": {},
   "outputs": [],
   "source": [
    "G=nx.from_pandas_edgelist(knowledge_graph_df, \"source\", \"target\", \n",
    "                          edge_attr=True, create_using=nx.MultiDiGraph())\n",
    "plt.figure(figsize = (15,15))\n",
    "pox = nx.spring_layout(G,k = 1.0) #k defines the distnace between nodes\n",
    "nx.draw(G, with_labels= True, node_size = 2500)\n",
    "plt.show()"
   ]
  },
  {
   "cell_type": "code",
   "execution_count": null,
   "metadata": {},
   "outputs": [],
   "source": [
    "print(G.nodes)"
   ]
  },
  {
   "cell_type": "code",
   "execution_count": null,
   "metadata": {},
   "outputs": [],
   "source": [
    "print(G.edges)"
   ]
  },
  {
   "cell_type": "code",
   "execution_count": null,
   "metadata": {},
   "outputs": [],
   "source": [
    "print(G.neighbors(\"homemade sponge cake\"))"
   ]
  },
  {
   "cell_type": "code",
   "execution_count": null,
   "metadata": {},
   "outputs": [],
   "source": [
    "for i in G.neighbors(\"gradually egg mixture\"):\n",
    "    print(i)"
   ]
  },
  {
   "cell_type": "code",
   "execution_count": null,
   "metadata": {},
   "outputs": [],
   "source": []
  }
 ],
 "metadata": {
  "kernelspec": {
   "display_name": "Python 3",
   "language": "python",
   "name": "python3"
  },
  "language_info": {
   "codemirror_mode": {
    "name": "ipython",
    "version": 3
   },
   "file_extension": ".py",
   "mimetype": "text/x-python",
   "name": "python",
   "nbconvert_exporter": "python",
   "pygments_lexer": "ipython3",
   "version": "3.8.5"
  }
 },
 "nbformat": 4,
 "nbformat_minor": 4
}
