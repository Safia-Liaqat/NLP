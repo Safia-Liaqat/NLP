{
 "cells": [
  {
   "cell_type": "code",
   "execution_count": 1,
   "metadata": {},
   "outputs": [
    {
     "name": "stdout",
     "output_type": "stream",
     "text": [
      "Making a homemade sponge cake was never so easy. Begin by mixing sugar and butter together. Whisk well until light and fluffy with a manual whisker or a fork. Once done, add the beaten eggs and blend well. Beat further so that the mixture turns white and creamy.Sift together the all-purpose flour and baking soda. It is done to evenly distribute the baking soda in flour. Gradually, add this to the egg mixture. If required, add a little milk and mix till the batter is fluffy and soft. You may not add the entire milk if you feel the consistency of your cake is fine and it pours down like canned condensed milk. Add vanilla essence and blend well. Vanilla essence is important to camouflage the smell of eggs.Sprinkle some maida on a greased baking tin. It will prevent sticking of the cake to the base. You can also line it with a butter paper. Pour the prepared mixture into the tin and place it on a stand in a pressure cooker. Do not add water in the cooker and ensure that the tin does not touch the base of the cooker. You can also keep the baking dish on an inverted steel plate. Increase the flame and pressure cook for two minutes. Now remove the whistle and cook on low flame for 35-40 minutes. If you are using an electric oven, cook at 180 degrees for 30-35 minutes.Insert a knife or a metal skewer into the cake and if it comes out clean, then the cake is ready. Remove from the oven/cooker and allow to cool on a wire rack.\n"
     ]
    }
   ],
   "source": [
    "myfile=open(\"task-01.txt\")\n",
    "txt=myfile.read()\n",
    "print(txt)"
   ]
  },
  {
   "cell_type": "code",
   "execution_count": 2,
   "metadata": {},
   "outputs": [],
   "source": [
    "import spacy"
   ]
  },
  {
   "cell_type": "code",
   "execution_count": 3,
   "metadata": {},
   "outputs": [],
   "source": [
    "nlp=spacy.load(\"en_core_web_sm\")"
   ]
  },
  {
   "cell_type": "code",
   "execution_count": 4,
   "metadata": {},
   "outputs": [],
   "source": [
    "processtxt=nlp(txt)"
   ]
  },
  {
   "cell_type": "code",
   "execution_count": 5,
   "metadata": {},
   "outputs": [
    {
     "name": "stdout",
     "output_type": "stream",
     "text": [
      "Making a homemade sponge cake was never so easy.\n",
      "Begin by mixing sugar and butter together.\n",
      "Whisk well until light and fluffy with a manual whisker or a fork.\n",
      "Once done, add the beaten eggs and blend well.\n",
      "Beat further so that the mixture turns white and creamy.\n",
      "Sift together the all-purpose flour and baking soda.\n",
      "It is done to evenly distribute the baking soda in flour.\n",
      "Gradually, add this to the egg mixture.\n",
      "If required, add a little milk and mix till the batter is fluffy and soft.\n",
      "You may not add the entire milk if you feel the consistency of your cake is fine and it pours down like canned condensed milk.\n",
      "Add vanilla essence and blend well.\n",
      "Vanilla essence is important to camouflage the smell of eggs.\n",
      "Sprinkle some maida on a greased baking tin.\n",
      "It will prevent sticking of the cake to the base.\n",
      "You can also line it with a butter paper.\n",
      "Pour the prepared mixture into the tin and place it on a stand in a pressure cooker.\n",
      "Do not add water in the cooker and ensure that the tin does not touch the base of the cooker.\n",
      "You can also keep the baking dish on an inverted steel plate.\n",
      "Increase the flame and pressure cook for two minutes.\n",
      "Now remove the whistle and cook on low flame for 35-40 minutes.\n",
      "If you are using an electric oven, cook at 180 degrees for 30-35 minutes.\n",
      "Insert a knife or a metal skewer into the cake and if it comes out clean, then the cake is ready.\n",
      "Remove from the oven/cooker and allow to cool on a wire rack.\n"
     ]
    }
   ],
   "source": [
    "for sent in processtxt.sents:\n",
    "    print(sent)"
   ]
  },
  {
   "cell_type": "code",
   "execution_count": 6,
   "metadata": {},
   "outputs": [
    {
     "name": "stdout",
     "output_type": "stream",
     "text": [
      "[Making a homemade sponge cake was never so easy., Begin by mixing sugar and butter together., Whisk well until light and fluffy with a manual whisker or a fork., Once done, add the beaten eggs and blend well., Beat further so that the mixture turns white and creamy., Sift together the all-purpose flour and baking soda., It is done to evenly distribute the baking soda in flour., Gradually, add this to the egg mixture., If required, add a little milk and mix till the batter is fluffy and soft., You may not add the entire milk if you feel the consistency of your cake is fine and it pours down like canned condensed milk., Add vanilla essence and blend well., Vanilla essence is important to camouflage the smell of eggs., Sprinkle some maida on a greased baking tin., It will prevent sticking of the cake to the base., You can also line it with a butter paper., Pour the prepared mixture into the tin and place it on a stand in a pressure cooker., Do not add water in the cooker and ensure that the tin does not touch the base of the cooker., You can also keep the baking dish on an inverted steel plate., Increase the flame and pressure cook for two minutes., Now remove the whistle and cook on low flame for 35-40 minutes., If you are using an electric oven, cook at 180 degrees for 30-35 minutes., Insert a knife or a metal skewer into the cake and if it comes out clean, then the cake is ready., Remove from the oven/cooker and allow to cool on a wire rack.]\n"
     ]
    }
   ],
   "source": [
    "list1=[]\n",
    "for sent in processtxt.sents:\n",
    "    list1.append(sent)\n",
    "print(list1)"
   ]
  },
  {
   "cell_type": "code",
   "execution_count": null,
   "metadata": {},
   "outputs": [],
   "source": []
  },
  {
   "cell_type": "code",
   "execution_count": 7,
   "metadata": {},
   "outputs": [],
   "source": [
    "import pandas as pd"
   ]
  },
  {
   "cell_type": "code",
   "execution_count": 8,
   "metadata": {},
   "outputs": [],
   "source": [
    "df=pd.DataFrame({\"sentences\":list1})"
   ]
  },
  {
   "cell_type": "code",
   "execution_count": 9,
   "metadata": {},
   "outputs": [],
   "source": [
    "df.to_csv(\"new.csv\")"
   ]
  },
  {
   "cell_type": "code",
   "execution_count": null,
   "metadata": {},
   "outputs": [],
   "source": []
  }
 ],
 "metadata": {
  "kernelspec": {
   "display_name": "Python 3",
   "language": "python",
   "name": "python3"
  },
  "language_info": {
   "codemirror_mode": {
    "name": "ipython",
    "version": 3
   },
   "file_extension": ".py",
   "mimetype": "text/x-python",
   "name": "python",
   "nbconvert_exporter": "python",
   "pygments_lexer": "ipython3",
   "version": "3.8.5"
  }
 },
 "nbformat": 4,
 "nbformat_minor": 4
}
