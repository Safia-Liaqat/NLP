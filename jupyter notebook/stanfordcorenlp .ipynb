{
 "cells": [
  {
   "cell_type": "code",
   "execution_count": 1,
   "metadata": {},
   "outputs": [
    {
     "name": "stdout",
     "output_type": "stream",
     "text": [
      "Requirement already satisfied: pycorenlp in c:\\users\\x1\\anaconda3\\lib\\site-packages (0.3.0)\n",
      "Requirement already satisfied: requests in c:\\users\\x1\\anaconda3\\lib\\site-packages (from pycorenlp) (2.24.0)\n",
      "Requirement already satisfied: certifi>=2017.4.17 in c:\\users\\x1\\anaconda3\\lib\\site-packages (from requests->pycorenlp) (2020.6.20)\n",
      "Requirement already satisfied: chardet<4,>=3.0.2 in c:\\users\\x1\\anaconda3\\lib\\site-packages (from requests->pycorenlp) (3.0.4)\n",
      "Requirement already satisfied: idna<3,>=2.5 in c:\\users\\x1\\anaconda3\\lib\\site-packages (from requests->pycorenlp) (2.10)\n",
      "Requirement already satisfied: urllib3!=1.25.0,!=1.25.1,<1.26,>=1.21.1 in c:\\users\\x1\\anaconda3\\lib\\site-packages (from requests->pycorenlp) (1.25.11)\n",
      "Note: you may need to restart the kernel to use updated packages.\n"
     ]
    }
   ],
   "source": [
    "pip install pycorenlp"
   ]
  },
  {
   "cell_type": "code",
   "execution_count": 2,
   "metadata": {},
   "outputs": [],
   "source": [
    "from pycorenlp import StanfordCoreNLP\n",
    "\n",
    "nlp_wrapper = StanfordCoreNLP('http://localhost:9000')"
   ]
  },
  {
   "cell_type": "code",
   "execution_count": 3,
   "metadata": {},
   "outputs": [],
   "source": [
    "import mysql.connector"
   ]
  },
  {
   "cell_type": "code",
   "execution_count": 4,
   "metadata": {},
   "outputs": [
    {
     "name": "stdout",
     "output_type": "stream",
     "text": [
      "[('Top with a light layer of bread crumbs.', 357101), ('Cover pan with aluminum foil.', 357102), ('Combine 1/2 the mushroom soup and an equal amount of water in a saucepan over medium heat.', 357103), ('Add chicken.', 357104), ('Bring to a simmer and cook until chicken is no longer pink in the center, 3 to 5 minutes.', 357105), ('Melt butter in a saucepan over medium heat.', 357106), ('Add milk and salt;', 357107), ('stir in remaining cream of mushroom soup.', 357108), ('Add flour slowly, stirring constantly with a whisk to prevent lumps.', 357109), ('Heat 1 frozen, unopened bag of cauliflower and broccoli mix in the microwave until hot, 4 to 6 minutes.', 357113)]\n"
     ]
    }
   ],
   "source": [
    "import mysql.connector\n",
    "mydb=mysql.connector.connect(host='121.52.153.204',database='Mehreenahmed',user='Mehreenahmed',password='mehreen@123')\n",
    "mycursor=mydb.cursor()\n",
    "mycursor.execute(\"SELECT instruction,newID  FROM SoloInstruction WHERE StanfordTaggings IS NULL LIMIT 10 \")\n",
    "count=0\n",
    "Results=[]\n",
    "myresult=mycursor.fetchall()\n",
    "Results=[x for x in myresult]\n",
    "print(Results)\n"
   ]
  },
  {
   "cell_type": "code",
   "execution_count": 5,
   "metadata": {},
   "outputs": [
    {
     "name": "stdout",
     "output_type": "stream",
     "text": [
      "{'sentences': [{'index': 0, 'tokens': [{'index': 1, 'word': 'Heat', 'originalText': 'Heat', 'characterOffsetBegin': 0, 'characterOffsetEnd': 4, 'pos': 'NN', 'before': '', 'after': ' '}, {'index': 2, 'word': '1', 'originalText': '1', 'characterOffsetBegin': 5, 'characterOffsetEnd': 6, 'pos': 'CD', 'before': ' ', 'after': ' '}, {'index': 3, 'word': 'frozen', 'originalText': 'frozen', 'characterOffsetBegin': 7, 'characterOffsetEnd': 13, 'pos': 'VBN', 'before': ' ', 'after': ''}, {'index': 4, 'word': ',', 'originalText': ',', 'characterOffsetBegin': 13, 'characterOffsetEnd': 14, 'pos': ',', 'before': '', 'after': ' '}, {'index': 5, 'word': 'unopened', 'originalText': 'unopened', 'characterOffsetBegin': 15, 'characterOffsetEnd': 23, 'pos': 'JJ', 'before': ' ', 'after': ' '}, {'index': 6, 'word': 'bag', 'originalText': 'bag', 'characterOffsetBegin': 24, 'characterOffsetEnd': 27, 'pos': 'NN', 'before': ' ', 'after': ' '}, {'index': 7, 'word': 'of', 'originalText': 'of', 'characterOffsetBegin': 28, 'characterOffsetEnd': 30, 'pos': 'IN', 'before': ' ', 'after': ' '}, {'index': 8, 'word': 'cauliflower', 'originalText': 'cauliflower', 'characterOffsetBegin': 31, 'characterOffsetEnd': 42, 'pos': 'NN', 'before': ' ', 'after': ' '}, {'index': 9, 'word': 'and', 'originalText': 'and', 'characterOffsetBegin': 43, 'characterOffsetEnd': 46, 'pos': 'CC', 'before': ' ', 'after': ' '}, {'index': 10, 'word': 'broccoli', 'originalText': 'broccoli', 'characterOffsetBegin': 47, 'characterOffsetEnd': 55, 'pos': 'NN', 'before': ' ', 'after': ' '}, {'index': 11, 'word': 'mix', 'originalText': 'mix', 'characterOffsetBegin': 56, 'characterOffsetEnd': 59, 'pos': 'NN', 'before': ' ', 'after': ' '}, {'index': 12, 'word': 'in', 'originalText': 'in', 'characterOffsetBegin': 60, 'characterOffsetEnd': 62, 'pos': 'IN', 'before': ' ', 'after': ' '}, {'index': 13, 'word': 'the', 'originalText': 'the', 'characterOffsetBegin': 63, 'characterOffsetEnd': 66, 'pos': 'DT', 'before': ' ', 'after': ' '}, {'index': 14, 'word': 'microwave', 'originalText': 'microwave', 'characterOffsetBegin': 67, 'characterOffsetEnd': 76, 'pos': 'NN', 'before': ' ', 'after': ' '}, {'index': 15, 'word': 'until', 'originalText': 'until', 'characterOffsetBegin': 77, 'characterOffsetEnd': 82, 'pos': 'IN', 'before': ' ', 'after': ' '}, {'index': 16, 'word': 'hot', 'originalText': 'hot', 'characterOffsetBegin': 83, 'characterOffsetEnd': 86, 'pos': 'JJ', 'before': ' ', 'after': ''}, {'index': 17, 'word': ',', 'originalText': ',', 'characterOffsetBegin': 86, 'characterOffsetEnd': 87, 'pos': ',', 'before': '', 'after': ' '}, {'index': 18, 'word': '4', 'originalText': '4', 'characterOffsetBegin': 88, 'characterOffsetEnd': 89, 'pos': 'CD', 'before': ' ', 'after': ' '}, {'index': 19, 'word': 'to', 'originalText': 'to', 'characterOffsetBegin': 90, 'characterOffsetEnd': 92, 'pos': 'TO', 'before': ' ', 'after': ' '}, {'index': 20, 'word': '6', 'originalText': '6', 'characterOffsetBegin': 93, 'characterOffsetEnd': 94, 'pos': 'CD', 'before': ' ', 'after': ' '}, {'index': 21, 'word': 'minutes', 'originalText': 'minutes', 'characterOffsetBegin': 95, 'characterOffsetEnd': 102, 'pos': 'NNS', 'before': ' ', 'after': ''}, {'index': 22, 'word': '.', 'originalText': '.', 'characterOffsetBegin': 102, 'characterOffsetEnd': 103, 'pos': '.', 'before': '', 'after': ''}]}]}\n"
     ]
    }
   ],
   "source": [
    "for result in Results:\n",
    "    doc=result[0]\n",
    "    annot_doc=nlp_wrapper.annotate(doc,properties={'annotators':'pos','outputFormat':'json'})\n",
    "print(annot_doc)"
   ]
  },
  {
   "cell_type": "code",
   "execution_count": 6,
   "metadata": {},
   "outputs": [
    {
     "name": "stdout",
     "output_type": "stream",
     "text": [
      "{'sentences': [{'index': 0, 'tokens': [{'index': 1, 'word': 'Heat', 'originalText': 'Heat', 'characterOffsetBegin': 0, 'characterOffsetEnd': 4, 'pos': 'NN', 'before': '', 'after': ' '}, {'index': 2, 'word': '1', 'originalText': '1', 'characterOffsetBegin': 5, 'characterOffsetEnd': 6, 'pos': 'CD', 'before': ' ', 'after': ' '}, {'index': 3, 'word': 'frozen', 'originalText': 'frozen', 'characterOffsetBegin': 7, 'characterOffsetEnd': 13, 'pos': 'VBN', 'before': ' ', 'after': ''}, {'index': 4, 'word': ',', 'originalText': ',', 'characterOffsetBegin': 13, 'characterOffsetEnd': 14, 'pos': ',', 'before': '', 'after': ' '}, {'index': 5, 'word': 'unopened', 'originalText': 'unopened', 'characterOffsetBegin': 15, 'characterOffsetEnd': 23, 'pos': 'JJ', 'before': ' ', 'after': ' '}, {'index': 6, 'word': 'bag', 'originalText': 'bag', 'characterOffsetBegin': 24, 'characterOffsetEnd': 27, 'pos': 'NN', 'before': ' ', 'after': ' '}, {'index': 7, 'word': 'of', 'originalText': 'of', 'characterOffsetBegin': 28, 'characterOffsetEnd': 30, 'pos': 'IN', 'before': ' ', 'after': ' '}, {'index': 8, 'word': 'cauliflower', 'originalText': 'cauliflower', 'characterOffsetBegin': 31, 'characterOffsetEnd': 42, 'pos': 'NN', 'before': ' ', 'after': ' '}, {'index': 9, 'word': 'and', 'originalText': 'and', 'characterOffsetBegin': 43, 'characterOffsetEnd': 46, 'pos': 'CC', 'before': ' ', 'after': ' '}, {'index': 10, 'word': 'broccoli', 'originalText': 'broccoli', 'characterOffsetBegin': 47, 'characterOffsetEnd': 55, 'pos': 'NN', 'before': ' ', 'after': ' '}, {'index': 11, 'word': 'mix', 'originalText': 'mix', 'characterOffsetBegin': 56, 'characterOffsetEnd': 59, 'pos': 'NN', 'before': ' ', 'after': ' '}, {'index': 12, 'word': 'in', 'originalText': 'in', 'characterOffsetBegin': 60, 'characterOffsetEnd': 62, 'pos': 'IN', 'before': ' ', 'after': ' '}, {'index': 13, 'word': 'the', 'originalText': 'the', 'characterOffsetBegin': 63, 'characterOffsetEnd': 66, 'pos': 'DT', 'before': ' ', 'after': ' '}, {'index': 14, 'word': 'microwave', 'originalText': 'microwave', 'characterOffsetBegin': 67, 'characterOffsetEnd': 76, 'pos': 'NN', 'before': ' ', 'after': ' '}, {'index': 15, 'word': 'until', 'originalText': 'until', 'characterOffsetBegin': 77, 'characterOffsetEnd': 82, 'pos': 'IN', 'before': ' ', 'after': ' '}, {'index': 16, 'word': 'hot', 'originalText': 'hot', 'characterOffsetBegin': 83, 'characterOffsetEnd': 86, 'pos': 'JJ', 'before': ' ', 'after': ''}, {'index': 17, 'word': ',', 'originalText': ',', 'characterOffsetBegin': 86, 'characterOffsetEnd': 87, 'pos': ',', 'before': '', 'after': ' '}, {'index': 18, 'word': '4', 'originalText': '4', 'characterOffsetBegin': 88, 'characterOffsetEnd': 89, 'pos': 'CD', 'before': ' ', 'after': ' '}, {'index': 19, 'word': 'to', 'originalText': 'to', 'characterOffsetBegin': 90, 'characterOffsetEnd': 92, 'pos': 'TO', 'before': ' ', 'after': ' '}, {'index': 20, 'word': '6', 'originalText': '6', 'characterOffsetBegin': 93, 'characterOffsetEnd': 94, 'pos': 'CD', 'before': ' ', 'after': ' '}, {'index': 21, 'word': 'minutes', 'originalText': 'minutes', 'characterOffsetBegin': 95, 'characterOffsetEnd': 102, 'pos': 'NNS', 'before': ' ', 'after': ''}, {'index': 22, 'word': '.', 'originalText': '.', 'characterOffsetBegin': 102, 'characterOffsetEnd': 103, 'pos': '.', 'before': '', 'after': ''}]}]}\n"
     ]
    }
   ],
   "source": [
    "for result in Results:\n",
    "    doc=result[0]\n",
    "    annot_doc=nlp_wrapper.annotate(doc,properties={'annotators':'pos','outputFormat':'json'})\n",
    "print(annot_doc)"
   ]
  },
  {
   "cell_type": "code",
   "execution_count": 7,
   "metadata": {},
   "outputs": [
    {
     "name": "stdout",
     "output_type": "stream",
     "text": [
      "22\n"
     ]
    }
   ],
   "source": [
    "sentence_length = len(annot_doc[\"sentences\"][0][\"tokens\"])\n",
    "print(sentence_length)\n"
   ]
  },
  {
   "cell_type": "code",
   "execution_count": 8,
   "metadata": {},
   "outputs": [
    {
     "name": "stdout",
     "output_type": "stream",
     "text": [
      "['NN', 'CD', 'VBN', ',', 'JJ', 'NN', 'IN', 'NN', 'CC', 'NN', 'NN', 'IN', 'DT', 'NN', 'IN', 'JJ', ',', 'CD', 'TO', 'CD', 'NNS', '.']\n"
     ]
    }
   ],
   "source": [
    "sentence_length = len(annot_doc[\"sentences\"][0][\"tokens\"])\n",
    "pos=[]\n",
    "for i in range(sentence_length):\n",
    "    pos +=[annot_doc[\"sentences\"][0][\"tokens\"][i][\"pos\"]]\n",
    "    listToStr=''.join(pos)\n",
    "print(pos)"
   ]
  },
  {
   "cell_type": "code",
   "execution_count": 9,
   "metadata": {},
   "outputs": [],
   "source": [
    "st=\"UPDATE SoloInstruction SET StanfordTaggings='\"+str(listToStr)+\"'WHERE newID=\"+str(result[1])\n",
    "query=(st)\n",
    "mycursor.execute(query)\n",
    "if count%50==0:\n",
    "    mydb.commit()\n",
    "mydb.commit()"
   ]
  },
  {
   "cell_type": "code",
   "execution_count": 10,
   "metadata": {},
   "outputs": [
    {
     "name": "stdout",
     "output_type": "stream",
     "text": [
      "UPDATE SoloInstruction SET StanfordTaggings='NNCDVBN,JJNNINNNCCNNNNINDTNNINJJ,CDTOCDNNS.'WHERE newID=357113\n"
     ]
    }
   ],
   "source": [
    "print(st)"
   ]
  },
  {
   "cell_type": "code",
   "execution_count": 11,
   "metadata": {},
   "outputs": [],
   "source": [
    "st=\"UPDATE SoloInstruction SET StanfordTaggings='\"+str(listToStr)+\"'WHERE newID=\"+str(result[1])\n",
    "query=(st)\n",
    "mycursor.execute(query)\n",
    "if count%50==0:\n",
    "    mydb.commit()\n",
    "mydb.commit()"
   ]
  }
 ],
 "metadata": {
  "kernelspec": {
   "display_name": "Python 3",
   "language": "python",
   "name": "python3"
  },
  "language_info": {
   "codemirror_mode": {
    "name": "ipython",
    "version": 3
   },
   "file_extension": ".py",
   "mimetype": "text/x-python",
   "name": "python",
   "nbconvert_exporter": "python",
   "pygments_lexer": "ipython3",
   "version": "3.8.5"
  }
 },
 "nbformat": 4,
 "nbformat_minor": 4
}
